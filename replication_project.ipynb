{
 "cells": [
  {
   "cell_type": "markdown",
   "id": "9395c475",
   "metadata": {
    "id": "9395c475"
   },
   "source": [
    "## **DSC 180AB Data Science Capstone**\n",
    "### Replication Project"
   ]
  },
  {
   "cell_type": "markdown",
   "id": "9e49e865",
   "metadata": {
    "id": "9e49e865"
   },
   "source": [
    "**Team Members**:\n",
    "\n",
    "\n",
    "*   Chester (Kai) Ni\n",
    "*   Catherine Back\n",
    "*   Yuancheng (Kaleo) Cao\n",
    "*   Kavya Sriram\n",
    "\n"
   ]
  },
  {
   "cell_type": "markdown",
   "id": "9aa1c3d2",
   "metadata": {
    "id": "9aa1c3d2"
   },
   "source": [
    "### Table of Contents\n",
    "To return to the table of contents, click on the number at any major section heading."
   ]
  },
  {
   "cell_type": "markdown",
   "id": "1dacfbb4",
   "metadata": {
    "id": "1dacfbb4"
   },
   "source": [
    "[1. Introduction](#1.-Introduction)\n",
    "\n",
    "[2. Exploratory Data Analysis](#2.-Exploratory-Data-Analysis)\n",
    "\n",
    "[3. Model Development](#3.-Model-Development)\n",
    "\n",
    "[4. Model Evaluation](#4.-Model-Evaluation)\n",
    "\n",
    "[5. Bias Mitigation](#5.-Bias-Mitigation)\n",
    "\n",
    "[6. Results Summary](#6.-Results-Summary)\n",
    "\n",
    "[7. Explainability](#7.-Explainability)\n",
    "\n",
    "[8. Conclusion & Discussion](#8.-Conclusion-&-Discussion)\n"
   ]
  },
  {
   "cell_type": "markdown",
   "id": "76354145-7d96-4a89-92ec-4dfa713ff959",
   "metadata": {
    "id": "76354145-7d96-4a89-92ec-4dfa713ff959"
   },
   "source": [
    "## This tutorial demonstrates classification model learning with bias mitigation as a part of a Care Management use case using Medical Expenditure data."
   ]
  },
  {
   "cell_type": "markdown",
   "id": "7799d7d3-7572-4e08-9e3a-812ba39befda",
   "metadata": {
    "id": "7799d7d3-7572-4e08-9e3a-812ba39befda"
   },
   "source": [
    "The notebook demonstrates how the AIF 360 toolkit can be used to detect and reduce bias when learning classifiers using a variety of fairness metrics and algorithms. It also demonstrates how explanations can be generated for predictions made by models learnt with the toolkit using LIME.\n",
    "\n",
    "* Classifiers are built using Logistic Regression as well as Random Forests.\n",
    "* Bias detection is demonstrated using several metrics, including disparate impact, average odds difference, statistical parity difference, equal opportunity difference, and Theil index.\n",
    "* Bias alleviation is explored via a variety of methods, including reweighing (pre-processing algorithm), prejudice remover (in-processing algorithm), and disparate impact remover (pre-processing technique).\n",
    "* Data from the [Medical Expenditure Panel Survey](https://meps.ahrq.gov/mepsweb/) is used in this tutorial.\n",
    "\n",
    "\n",
    "The Medical Expenditure Panel Survey (MEPS) provides nationally representative estimates of health expenditure, utilization, payment sources, health status, and health insurance coverage among the noninstitutionalized U.S. population. These government-produced data sets examine how people use the US healthcare system.\n",
    "\n",
    "MEPS is administered by the Agency for Healthcare Research and Quality (AHRQ) and is divided into three components:\n",
    "* Household\n",
    "* Insurance/Employer, and\n",
    "* Medical Provider.\n",
    "\n",
    "These components provide comprehensive national estimates of health care use and payment by individuals, families, and any other demographic group of interest."
   ]
  },
  {
   "cell_type": "markdown",
   "id": "ebad3269",
   "metadata": {
    "id": "ebad3269"
   },
   "source": [
    "### [1.](#Table-of-Contents) Introduction"
   ]
  },
  {
   "cell_type": "markdown",
   "id": "c682f615",
   "metadata": {
    "id": "c682f615"
   },
   "source": [
    "The [AI Fairness 360 toolkit](https://github.com/Trusted-AI/AIF360) is an extensible open-source library containing techniques developed by the research community to help detect and mitigate bias in machine learning models throughout the AI application lifecycle. AI Fairness 360 documentation is available [here](https://aif360.readthedocs.io/en/stable/).\n",
    "\n",
    "The AI Fairness 360 package includes:\n",
    "- a comprehensive set of metrics for datasets and models to test for biases,\n",
    "- explanations for these metrics, and\n",
    "- algorithms to mitigate bias in datasets and models\n",
    "It is designed to translate algorithmic research from the lab into the actual practice of domains as wide-ranging as finance, human capital management, healthcare, and education"
   ]
  },
  {
   "cell_type": "markdown",
   "id": "523227a6-425b-4dba-bb8a-81ea10e59102",
   "metadata": {
    "id": "523227a6-425b-4dba-bb8a-81ea10e59102"
   },
   "source": [
    "#### 1.1 Use Case\n",
    "\n",
    "**In order to demonstrate how AIF360 can be used to detect and mitigate bias in classifier models, we adopt the following use case:**\n",
    "\n",
    "* Data scientist develops a 'fair' healthcare utilization scoring model with respect to defined protected classes. Fairness may be dictated by legal or government regulations, such as a requirement that additional care decisions be not predicated on factors such as race of the patient.\n",
    "* Developer takes the model AND performance characteristics / specs of the model (e.g. accuracy, fairness tests, etc. basically the model factsheet) and deploys the model in an enterprise app that prioritizes cases for care management.\n",
    "* The app is put into production and starts scoring people and making recommendations.\n",
    "* Explanations are generated for each recommendation\n",
    "* Both recommendations and associated explanations are given to nurses as a part of the care management process. The nurses can evaluate the recommendations for quality and correctness and provide feedback.\n",
    "* Nurse feedback as well as analysis of usage data with respect to specs of the model w.r.t accuracy and fairness is communicated to AI Ops specialist and LOB user periodically.\n",
    "* When significant drift in model specs relative to the model factsheet is observed, the model is sent back for retraining."
   ]
  },
  {
   "cell_type": "markdown",
   "id": "f8b3fccd-dada-42d4-a408-42582b8d060f",
   "metadata": {
    "id": "f8b3fccd-dada-42d4-a408-42582b8d060f"
   },
   "source": [
    "#### 1.2 Data\n",
    "Released as an ASCII file (with related SAS, SPSS, and STATA programming statements) and a SAS transport dataset, this public use file provides information collected on a nationally representative sample of the civilian noninstitutionalized population of the United States for calendar year 2015. This file consists of MEPS survey data obtained in Rounds 3, 4, and 5 of Panel 19 and Rounds 1, 2, and 3 of Panel 20 (i.e., the rounds for the MEPS panels covering calendar year 2015) and consolidates all of the final 2015 person-level variables onto one file. This file contains the following variables previously released on HC-174: survey administration, language of interview variable, demographics, parent identifiers, health status, disability days variables, access to care, employment, quality of care, patient satisfaction, health insurance, and use variables. The HC-181 file also includes these variables: income variables and expenditure variables.\n",
    "\n",
    "The specific data used is the [2015 Full Year Consolidated Data File](https://meps.ahrq.gov/mepsweb/data_stats/download_data_files_detail.jsp?cboPufNumber=HC-181) as well as the [2016 Full Year Consolidated Data File](https://meps.ahrq.gov/mepsweb/data_stats/download_data_files_detail.jsp?cboPufNumber=HC-192).\n",
    "\n",
    "* The 2015 file contains data from rounds 3,4,5 of panel 19 (2014) and rounds 1,2,3 of panel 20 (2015).\n",
    "* The 2016 file contains data from rounds 3,4,5 of panel 20 (2015) and rounds 1,2,3 of panel 21 (2016).\n",
    "\n",
    "In this example, three datasets were constructed: one from panel 19, round 5 (used for learning models), one from panel 20, round 3 (used for deployment/testing of model - steps); the other from panel 21, round 3 (used for re-training and deployment/testing of updated model)."
   ]
  },
  {
   "cell_type": "markdown",
   "id": "4bcd0b66-89d3-4e62-a3af-1b62b3dbaf27",
   "metadata": {
    "id": "4bcd0b66-89d3-4e62-a3af-1b62b3dbaf27"
   },
   "source": [
    "#### 1.3 Methodology\n",
    "\n",
    "For each dataset, the sensitive attribute is 'RACE' constructed as follows: 'Whites' (privileged class) defined by the features RACEV2X = 1 (White) and HISPANX = 2 (non Hispanic); 'Non-Whites' that included everyone else.  \n",
    "\n",
    "* Along with race as the sensitive feature, other features used for modeling include demographics  (such as age, gender, active duty status), physical/mental health assessments, diagnosis codes (such as history of diagnosis of cancer, or diabetes), and limitations (such as cognitive or hearing or vision limitation).\n",
    "* To measure utilization, a composite feature, 'UTILIZATION', was created to measure the total number of trips requiring some sort of medical care by summing up the following features: OBTOTV15(16), the number of office based visits;  OPTOTV15(16), the number of outpatient visits; ERTOT15(16), the number of ER visits;  IPNGTD15(16), the number of inpatient nights, and  + HHTOTD16, the number of home health visits.\n",
    "* The model classification task is to predict whether a person would have 'high' utilization (defined as UTILIZATION >= 10, roughly the average utilization for the considered population). High utilization respondents constituted around 17% of each dataset.\n",
    "* To simulate the scenario, each dataset is split into 3 parts: a train, a validation, and a test/deployment part.\n",
    "\n",
    "**We assume that the model is initially built and tuned using the 2015 Panel 19 train/test data**\n",
    "* It is then put into practice and used to score people to identify potential candidates for care management.\n",
    "* Initial deployment is simulated to 2015 Panel 20 deployment data.\n",
    "* To show change in performance and/or fairness over time, the 2016 Panel 21 deployment data is used.\n",
    "* Finally, if drift is observed, the 2015 train/validation data is used to learn a new model and evaluated again on the 2016 deployment data"
   ]
  },
  {
   "cell_type": "markdown",
   "id": "913a44da",
   "metadata": {
    "id": "913a44da"
   },
   "source": [
    "### 1.4 Insert writeup of overall replication project goals and big picture thinking (2-3 paragraphs).  \n",
    "* **Why do we care about this?**\n",
    "We care because this data can be used to explore trends and patterns in medicine and hospitals. It can help better our understanding in matters of health and relationships between diagnoses as well as provide more insight on overhead such as insurance coverage and hospital stays. If you factor in the different demographics in this data the information is very useful to the medical industry as it can enhance decision making in matters of health and administration.\n",
    "* **What would the benefit of predicting utilization be?**\n",
    "The benefit of predicting utilization could be improved decision making as well as more proactive behaviors rather than preventative which in the case of healthcare can be very essential. If you have an idea about who the diagnosis  of one disease can possibly be an indicator of another you can take preventative action and potentially improve the situation. Also it can shed light on other details regarding demographics and possible inequality of care which can also be combatted proactively.\n",
    "* **What might occur if there are errors?**\n",
    "Errors can be detrimental because in matters of health a wrong or missed diagnosis can be very serious. Also demographic mistakes can also be harmful as sometimes those can be key indicators to health issues along with other details. Also error in handling the data can lead to serious privacy violations which can also have major consequences.\n",
    "* **Who are the affected parties and stakeholders?**\n",
    "The affected parties and stakeholders are both patients and members of the healthcare industry, such as doctors. This is because the patient's health and data are at stake and can be affected by this exploration. Members of the healthcare industry are relevant because it is their job to properly utilize predictions and insights found to improve performance and experience for healthcare patients.\n",
    "* **Other thoughts?**\n",
    "The insights found from this data need to be very thoroughly checked as when it comes to health things aren’t very cut and dry. There are a lot of nuances and different meanings when it comes to health conditions and diagnoses that need to be considered before applying what is learned from the data."
   ]
  },
  {
   "cell_type": "markdown",
   "id": "20f776c5-8ed6-49c3-9f12-f2afed0605d4",
   "metadata": {
    "id": "20f776c5-8ed6-49c3-9f12-f2afed0605d4"
   },
   "source": [
    "---\n",
    "End of Introduction"
   ]
  },
  {
   "cell_type": "markdown",
   "id": "5f1413d0",
   "metadata": {
    "id": "5f1413d0"
   },
   "source": [
    "### [2.](#Table-of-Contents) Exploratory Data Analysis (EDA)\n"
   ]
  },
  {
   "cell_type": "markdown",
   "id": "e6c4a57f-abcf-47c6-961e-baec728e930a",
   "metadata": {
    "id": "e6c4a57f-abcf-47c6-961e-baec728e930a"
   },
   "source": [
    "The specific data used is the [2015 Full Year Consolidated Data File](https://meps.ahrq.gov/mepsweb/data_stats/download_data_files_detail.jsp?cboPufNumber=HC-181) as well as the [2016 Full Year Consolidated Data File](https://meps.ahrq.gov/mepsweb/data_stats/download_data_files_detail.jsp?cboPufNumber=HC-192).\n",
    "\n",
    "* The 2015 file contains data from rounds 3,4,5 of panel 19 (2014) and rounds 1,2,3 of panel 20 (2015).\n",
    "* The 2016 file contains data from rounds 3,4,5 of panel 20 (2015) and rounds 1,2,3 of panel 21 (2016).\n",
    "\n",
    "In this example, three datasets were constructed: one from panel 19, round 5 (used for learning models), one from panel 20, round 3 (used for deployment/testing of model - steps); the other from panel 21, round 3 (used for re-training and deployment/testing of updated model).\n",
    "\n",
    "See the corresponding [Codebook](https://meps.ahrq.gov/mepsweb/data_stats/download_data_files_detail.jsp?cboPufNumber=HC-181) for information on variables.\n",
    "\n",
    "##### Key MEPS dataset features include:\n",
    "* **Utilization**: To measure utilization, a composite feature, 'UTILIZATION', was created to measure the total number of trips requiring some sort of medical care by summing up the following features: OBTOTV15(16), the number of office based visits;  OPTOTV15(16), the number of outpatient visits; ERTOT15(16), the number of ER visits;  IPNGTD15(16), the number of inpatient nights, and  + HHTOTD16, the number of home health visits.\n",
    "* The model classification task is to predict whether a person would have **'high'** utilization (defined as UTILIZATION >= 10, roughly the average utilization for the considered population). High utilization respondents constituted around 17% of each dataset."
   ]
  },
  {
   "cell_type": "markdown",
   "id": "d7368b94-7451-4cf1-8a66-229d2a07907d",
   "metadata": {
    "id": "d7368b94-7451-4cf1-8a66-229d2a07907d"
   },
   "source": [
    "#### 2.0 Pre-processing Scripts (for each Panel)\n",
    "\n",
    "There is currently minimal EDA for this tutorial within IBM AIF360 Medical Expenditure Tutorial. Therefore, we have adapted  utility scripts from IBM AIF360 Tutorial for ease of understanding for how datasets were pre-processed. These will be used primarily for EDA purposes. We will utilize IBM's tutorial for the remainder of the project. We have utilized Pandas for this portion of the project.\n",
    "\n",
    "**Note:** these pre-processing script below are run for each data file, and then filtered for each panel. This was done in order to match subsequent portions of the tutorial, and how train/test/validation datasets were split."
   ]
  },
  {
   "cell_type": "markdown",
   "id": "49b833fd",
   "metadata": {
    "id": "49b833fd"
   },
   "source": [
    "#### 2.1 Get and Load Dataset, Apply Pre-processing"
   ]
  },
  {
   "cell_type": "markdown",
   "id": "cd36982c-27bb-4159-9d99-1730c1ca8b6c",
   "metadata": {
    "id": "cd36982c-27bb-4159-9d99-1730c1ca8b6c"
   },
   "source": [
    "**Before Proceeding Ensure You Have:**\n",
    "* Forked the AIF360 repository and cloned locally to your disk or virtual machine\n",
    "* Downloaded the `h181.csv` and `h192.csv` data files uploaded [here](https://www.kaggle.com/datasets/nanrahman/mepsdata)\n",
    "* Place the `h181.csv` and `h192.csv` in a folder you can access (we placed it in `../aif360/data/raw/meps/` of our forked AIF360 repository)\n",
    "* For EDA we only focus on `h181.csv`"
   ]
  },
  {
   "cell_type": "code",
   "execution_count": 2,
   "id": "RnmuY5XZ2Oyi",
   "metadata": {
    "colab": {
     "base_uri": "https://localhost:8080/"
    },
    "id": "RnmuY5XZ2Oyi",
    "outputId": "45fcb5ba-2fd5-43ac-dc10-be0dc117568c"
   },
   "outputs": [],
   "source": [
    "# !pip install aif360\n",
    "# !pip install 'aif360[all]'"
   ]
  },
  {
   "cell_type": "code",
   "execution_count": 3,
   "id": "52b887ff",
   "metadata": {
    "colab": {
     "base_uri": "https://localhost:8080/"
    },
    "id": "52b887ff",
    "outputId": "cd2bbaf5-2902-4a6f-fb43-42cae8b90586"
   },
   "outputs": [],
   "source": [
    "# Imports\n",
    "import sys\n",
    "\n",
    "%matplotlib inline\n",
    "import matplotlib.pyplot as plt\n",
    "import numpy as np\n",
    "from IPython.display import Markdown, display\n",
    "import pandas as pd\n",
    "import seaborn as sns\n",
    "\n",
    "# Datasets\n",
    "from aif360.datasets import MEPSDataset19\n",
    "from aif360.datasets import MEPSDataset20\n",
    "from aif360.datasets import MEPSDataset21\n",
    "from aif360.datasets import StandardDataset\n",
    "\n",
    "# Fairness metrics\n",
    "from aif360.metrics import BinaryLabelDatasetMetric\n",
    "from aif360.metrics import ClassificationMetric\n",
    "\n",
    "from sklearn.pipeline import make_pipeline\n",
    "from sklearn.linear_model import LinearRegression"
   ]
  },
  {
   "cell_type": "code",
   "execution_count": 4,
   "id": "98db0e2c-0708-42c4-a854-3c074c893a9e",
   "metadata": {
    "id": "98db0e2c-0708-42c4-a854-3c074c893a9e"
   },
   "outputs": [],
   "source": [
    "raw_181 = pd.read_csv('aif360/data/raw/meps/h181.csv')\n",
    "raw_192 = pd.read_csv('aif360/data/raw/meps/h192.csv')"
   ]
  },
  {
   "cell_type": "code",
   "execution_count": 5,
   "id": "v6ZchOuGIo63",
   "metadata": {
    "colab": {
     "base_uri": "https://localhost:8080/",
     "height": 444
    },
    "id": "v6ZchOuGIo63",
    "outputId": "883b85e3-0058-4251-f3b7-ee4e591b3645"
   },
   "outputs": [
    {
     "data": {
      "text/html": [
       "<div>\n",
       "<style scoped>\n",
       "    .dataframe tbody tr th:only-of-type {\n",
       "        vertical-align: middle;\n",
       "    }\n",
       "\n",
       "    .dataframe tbody tr th {\n",
       "        vertical-align: top;\n",
       "    }\n",
       "\n",
       "    .dataframe thead th {\n",
       "        text-align: right;\n",
       "    }\n",
       "</style>\n",
       "<table border=\"1\" class=\"dataframe\">\n",
       "  <thead>\n",
       "    <tr style=\"text-align: right;\">\n",
       "      <th></th>\n",
       "      <th>DUID</th>\n",
       "      <th>PID</th>\n",
       "      <th>DUPERSID</th>\n",
       "      <th>PANEL</th>\n",
       "      <th>FAMID31</th>\n",
       "      <th>FAMID42</th>\n",
       "      <th>FAMID53</th>\n",
       "      <th>FAMID15</th>\n",
       "      <th>FAMIDYR</th>\n",
       "      <th>CPSFAMID</th>\n",
       "      <th>...</th>\n",
       "      <th>RXOSR15</th>\n",
       "      <th>RXPTR15</th>\n",
       "      <th>RXOTH15</th>\n",
       "      <th>PERWT15F</th>\n",
       "      <th>FAMWT15F</th>\n",
       "      <th>FAMWT15C</th>\n",
       "      <th>SAQWT15F</th>\n",
       "      <th>DIABW15F</th>\n",
       "      <th>VARSTR</th>\n",
       "      <th>VARPSU</th>\n",
       "    </tr>\n",
       "  </thead>\n",
       "  <tbody>\n",
       "    <tr>\n",
       "      <th>0</th>\n",
       "      <td>60001</td>\n",
       "      <td>101</td>\n",
       "      <td>60001101</td>\n",
       "      <td>19</td>\n",
       "      <td>A</td>\n",
       "      <td>A</td>\n",
       "      <td>A</td>\n",
       "      <td>A</td>\n",
       "      <td>A</td>\n",
       "      <td>A</td>\n",
       "      <td>...</td>\n",
       "      <td>0</td>\n",
       "      <td>0</td>\n",
       "      <td>0</td>\n",
       "      <td>21854.981705</td>\n",
       "      <td>22983.493815</td>\n",
       "      <td>22983.493815</td>\n",
       "      <td>23226.272970</td>\n",
       "      <td>26185.048789</td>\n",
       "      <td>1019</td>\n",
       "      <td>1</td>\n",
       "    </tr>\n",
       "    <tr>\n",
       "      <th>1</th>\n",
       "      <td>60001</td>\n",
       "      <td>102</td>\n",
       "      <td>60001102</td>\n",
       "      <td>19</td>\n",
       "      <td>A</td>\n",
       "      <td>A</td>\n",
       "      <td>A</td>\n",
       "      <td>A</td>\n",
       "      <td>A</td>\n",
       "      <td>B</td>\n",
       "      <td>...</td>\n",
       "      <td>0</td>\n",
       "      <td>0</td>\n",
       "      <td>4</td>\n",
       "      <td>18169.604822</td>\n",
       "      <td>22983.493815</td>\n",
       "      <td>14663.337957</td>\n",
       "      <td>20624.450027</td>\n",
       "      <td>22682.689497</td>\n",
       "      <td>1019</td>\n",
       "      <td>1</td>\n",
       "    </tr>\n",
       "    <tr>\n",
       "      <th>2</th>\n",
       "      <td>60001</td>\n",
       "      <td>103</td>\n",
       "      <td>60001103</td>\n",
       "      <td>19</td>\n",
       "      <td>A</td>\n",
       "      <td>A</td>\n",
       "      <td>A</td>\n",
       "      <td>A</td>\n",
       "      <td>A</td>\n",
       "      <td>B</td>\n",
       "      <td>...</td>\n",
       "      <td>0</td>\n",
       "      <td>0</td>\n",
       "      <td>0</td>\n",
       "      <td>23812.596388</td>\n",
       "      <td>22983.493815</td>\n",
       "      <td>14663.337957</td>\n",
       "      <td>31246.723516</td>\n",
       "      <td>0.000000</td>\n",
       "      <td>1019</td>\n",
       "      <td>1</td>\n",
       "    </tr>\n",
       "    <tr>\n",
       "      <th>3</th>\n",
       "      <td>60001</td>\n",
       "      <td>104</td>\n",
       "      <td>60001104</td>\n",
       "      <td>19</td>\n",
       "      <td>A</td>\n",
       "      <td>A</td>\n",
       "      <td>A</td>\n",
       "      <td>A</td>\n",
       "      <td>A</td>\n",
       "      <td>C</td>\n",
       "      <td>...</td>\n",
       "      <td>0</td>\n",
       "      <td>0</td>\n",
       "      <td>0</td>\n",
       "      <td>17191.832515</td>\n",
       "      <td>22983.493815</td>\n",
       "      <td>11200.744542</td>\n",
       "      <td>18125.280372</td>\n",
       "      <td>0.000000</td>\n",
       "      <td>1019</td>\n",
       "      <td>1</td>\n",
       "    </tr>\n",
       "    <tr>\n",
       "      <th>4</th>\n",
       "      <td>60001</td>\n",
       "      <td>105</td>\n",
       "      <td>60001105</td>\n",
       "      <td>19</td>\n",
       "      <td>A</td>\n",
       "      <td>A</td>\n",
       "      <td>A</td>\n",
       "      <td>A</td>\n",
       "      <td>A</td>\n",
       "      <td>C</td>\n",
       "      <td>...</td>\n",
       "      <td>0</td>\n",
       "      <td>0</td>\n",
       "      <td>265</td>\n",
       "      <td>20261.485463</td>\n",
       "      <td>22983.493815</td>\n",
       "      <td>11200.744542</td>\n",
       "      <td>0.000000</td>\n",
       "      <td>0.000000</td>\n",
       "      <td>1019</td>\n",
       "      <td>1</td>\n",
       "    </tr>\n",
       "    <tr>\n",
       "      <th>...</th>\n",
       "      <td>...</td>\n",
       "      <td>...</td>\n",
       "      <td>...</td>\n",
       "      <td>...</td>\n",
       "      <td>...</td>\n",
       "      <td>...</td>\n",
       "      <td>...</td>\n",
       "      <td>...</td>\n",
       "      <td>...</td>\n",
       "      <td>...</td>\n",
       "      <td>...</td>\n",
       "      <td>...</td>\n",
       "      <td>...</td>\n",
       "      <td>...</td>\n",
       "      <td>...</td>\n",
       "      <td>...</td>\n",
       "      <td>...</td>\n",
       "      <td>...</td>\n",
       "      <td>...</td>\n",
       "      <td>...</td>\n",
       "      <td>...</td>\n",
       "    </tr>\n",
       "    <tr>\n",
       "      <th>35422</th>\n",
       "      <td>80569</td>\n",
       "      <td>108</td>\n",
       "      <td>80569108</td>\n",
       "      <td>20</td>\n",
       "      <td>B</td>\n",
       "      <td>A</td>\n",
       "      <td>D</td>\n",
       "      <td>D</td>\n",
       "      <td>A</td>\n",
       "      <td>A</td>\n",
       "      <td>...</td>\n",
       "      <td>0</td>\n",
       "      <td>0</td>\n",
       "      <td>0</td>\n",
       "      <td>2812.010290</td>\n",
       "      <td>2449.173357</td>\n",
       "      <td>2449.173357</td>\n",
       "      <td>0.000000</td>\n",
       "      <td>0.000000</td>\n",
       "      <td>1056</td>\n",
       "      <td>2</td>\n",
       "    </tr>\n",
       "    <tr>\n",
       "      <th>35423</th>\n",
       "      <td>80570</td>\n",
       "      <td>101</td>\n",
       "      <td>80570101</td>\n",
       "      <td>20</td>\n",
       "      <td>A</td>\n",
       "      <td>A</td>\n",
       "      <td>A</td>\n",
       "      <td>A</td>\n",
       "      <td>A</td>\n",
       "      <td>A</td>\n",
       "      <td>...</td>\n",
       "      <td>0</td>\n",
       "      <td>1248</td>\n",
       "      <td>0</td>\n",
       "      <td>11481.496934</td>\n",
       "      <td>13076.665735</td>\n",
       "      <td>13076.665735</td>\n",
       "      <td>11648.039744</td>\n",
       "      <td>0.000000</td>\n",
       "      <td>1126</td>\n",
       "      <td>1</td>\n",
       "    </tr>\n",
       "    <tr>\n",
       "      <th>35424</th>\n",
       "      <td>80571</td>\n",
       "      <td>101</td>\n",
       "      <td>80571101</td>\n",
       "      <td>20</td>\n",
       "      <td>A</td>\n",
       "      <td>A</td>\n",
       "      <td>A</td>\n",
       "      <td>A</td>\n",
       "      <td>A</td>\n",
       "      <td>A</td>\n",
       "      <td>...</td>\n",
       "      <td>0</td>\n",
       "      <td>0</td>\n",
       "      <td>0</td>\n",
       "      <td>8357.376060</td>\n",
       "      <td>7085.589291</td>\n",
       "      <td>7085.589291</td>\n",
       "      <td>9920.807391</td>\n",
       "      <td>0.000000</td>\n",
       "      <td>1144</td>\n",
       "      <td>1</td>\n",
       "    </tr>\n",
       "    <tr>\n",
       "      <th>35425</th>\n",
       "      <td>80571</td>\n",
       "      <td>102</td>\n",
       "      <td>80571102</td>\n",
       "      <td>20</td>\n",
       "      <td>A</td>\n",
       "      <td>A</td>\n",
       "      <td>A</td>\n",
       "      <td>A</td>\n",
       "      <td>A</td>\n",
       "      <td>A</td>\n",
       "      <td>...</td>\n",
       "      <td>0</td>\n",
       "      <td>1230</td>\n",
       "      <td>0</td>\n",
       "      <td>8389.102961</td>\n",
       "      <td>7085.589291</td>\n",
       "      <td>7085.589291</td>\n",
       "      <td>9141.136948</td>\n",
       "      <td>0.000000</td>\n",
       "      <td>1144</td>\n",
       "      <td>1</td>\n",
       "    </tr>\n",
       "    <tr>\n",
       "      <th>35426</th>\n",
       "      <td>80571</td>\n",
       "      <td>103</td>\n",
       "      <td>80571103</td>\n",
       "      <td>20</td>\n",
       "      <td>A</td>\n",
       "      <td>A</td>\n",
       "      <td>A</td>\n",
       "      <td>A</td>\n",
       "      <td>A</td>\n",
       "      <td>A</td>\n",
       "      <td>...</td>\n",
       "      <td>0</td>\n",
       "      <td>0</td>\n",
       "      <td>0</td>\n",
       "      <td>7471.432983</td>\n",
       "      <td>7085.589291</td>\n",
       "      <td>7085.589291</td>\n",
       "      <td>0.000000</td>\n",
       "      <td>0.000000</td>\n",
       "      <td>1144</td>\n",
       "      <td>1</td>\n",
       "    </tr>\n",
       "  </tbody>\n",
       "</table>\n",
       "<p>35427 rows × 1831 columns</p>\n",
       "</div>"
      ],
      "text/plain": [
       "        DUID  PID  DUPERSID  PANEL FAMID31 FAMID42 FAMID53 FAMID15 FAMIDYR  \\\n",
       "0      60001  101  60001101     19       A       A       A       A       A   \n",
       "1      60001  102  60001102     19       A       A       A       A       A   \n",
       "2      60001  103  60001103     19       A       A       A       A       A   \n",
       "3      60001  104  60001104     19       A       A       A       A       A   \n",
       "4      60001  105  60001105     19       A       A       A       A       A   \n",
       "...      ...  ...       ...    ...     ...     ...     ...     ...     ...   \n",
       "35422  80569  108  80569108     20       B       A       D       D       A   \n",
       "35423  80570  101  80570101     20       A       A       A       A       A   \n",
       "35424  80571  101  80571101     20       A       A       A       A       A   \n",
       "35425  80571  102  80571102     20       A       A       A       A       A   \n",
       "35426  80571  103  80571103     20       A       A       A       A       A   \n",
       "\n",
       "      CPSFAMID  ...  RXOSR15  RXPTR15 RXOTH15      PERWT15F      FAMWT15F  \\\n",
       "0            A  ...        0        0       0  21854.981705  22983.493815   \n",
       "1            B  ...        0        0       4  18169.604822  22983.493815   \n",
       "2            B  ...        0        0       0  23812.596388  22983.493815   \n",
       "3            C  ...        0        0       0  17191.832515  22983.493815   \n",
       "4            C  ...        0        0     265  20261.485463  22983.493815   \n",
       "...        ...  ...      ...      ...     ...           ...           ...   \n",
       "35422        A  ...        0        0       0   2812.010290   2449.173357   \n",
       "35423        A  ...        0     1248       0  11481.496934  13076.665735   \n",
       "35424        A  ...        0        0       0   8357.376060   7085.589291   \n",
       "35425        A  ...        0     1230       0   8389.102961   7085.589291   \n",
       "35426        A  ...        0        0       0   7471.432983   7085.589291   \n",
       "\n",
       "           FAMWT15C      SAQWT15F      DIABW15F  VARSTR  VARPSU  \n",
       "0      22983.493815  23226.272970  26185.048789    1019       1  \n",
       "1      14663.337957  20624.450027  22682.689497    1019       1  \n",
       "2      14663.337957  31246.723516      0.000000    1019       1  \n",
       "3      11200.744542  18125.280372      0.000000    1019       1  \n",
       "4      11200.744542      0.000000      0.000000    1019       1  \n",
       "...             ...           ...           ...     ...     ...  \n",
       "35422   2449.173357      0.000000      0.000000    1056       2  \n",
       "35423  13076.665735  11648.039744      0.000000    1126       1  \n",
       "35424   7085.589291   9920.807391      0.000000    1144       1  \n",
       "35425   7085.589291   9141.136948      0.000000    1144       1  \n",
       "35426   7085.589291      0.000000      0.000000    1144       1  \n",
       "\n",
       "[35427 rows x 1831 columns]"
      ]
     },
     "execution_count": 5,
     "metadata": {},
     "output_type": "execute_result"
    }
   ],
   "source": [
    "raw_181"
   ]
  },
  {
   "cell_type": "markdown",
   "id": "9365299c-679b-4022-93fe-de6017aec710",
   "metadata": {
    "id": "9365299c-679b-4022-93fe-de6017aec710"
   },
   "source": [
    "#### Apply pre-processing scripts"
   ]
  },
  {
   "cell_type": "code",
   "execution_count": 6,
   "id": "0cbeb4dd-572c-4365-b137-d3b6b4121e07",
   "metadata": {
    "id": "0cbeb4dd-572c-4365-b137-d3b6b4121e07"
   },
   "outputs": [],
   "source": [
    "default_mappings = {\n",
    "    'label_maps': [{1.0: '>= 10 Visits', 0.0: '< 10 Visits'}],\n",
    "    'protected_attribute_maps': [{1.0: 'White', 0.0: 'Non-White'}]}\n",
    "\n",
    "def default_preprocessing19(df):\n",
    "    \"\"\"\n",
    "    1.Create a new column, RACE that is 'White' if RACEV2X = 1 and HISPANX = 2 i.e. non Hispanic White\n",
    "      and 'non-White' otherwise\n",
    "    2. Restrict to Panel 19\n",
    "    3. RENAME all columns that are PANEL/ROUND SPECIFIC\n",
    "    4. Drop rows based on certain values of individual features that correspond to missing/unknown - generally < -1\n",
    "    5. Compute UTILIZATION, binarize it to 0 (< 10) and 1 (>= 10)\n",
    "    \"\"\"\n",
    "    def race(row):\n",
    "        if ((row['HISPANX'] == 2) and (row['RACEV2X'] == 1)):  #non-Hispanic Whites are marked as WHITE; all others as NON-WHITE\n",
    "            return 'White'\n",
    "        return 'Non-White'\n",
    "\n",
    "    df['RACEV2X'] = df.apply(lambda row: race(row), axis=1)\n",
    "    df = df.rename(columns = {'RACEV2X' : 'RACE'})\n",
    "\n",
    "    df = df[df['PANEL'] == 19]\n",
    "\n",
    "    # RENAME COLUMNS\n",
    "    df = df.rename(columns = {'FTSTU53X' : 'FTSTU', 'ACTDTY53' : 'ACTDTY', 'HONRDC53' : 'HONRDC', 'RTHLTH53' : 'RTHLTH',\n",
    "                              'MNHLTH53' : 'MNHLTH', 'CHBRON53' : 'CHBRON', 'JTPAIN53' : 'JTPAIN', 'PREGNT53' : 'PREGNT',\n",
    "                              'WLKLIM53' : 'WLKLIM', 'ACTLIM53' : 'ACTLIM', 'SOCLIM53' : 'SOCLIM', 'COGLIM53' : 'COGLIM',\n",
    "                              'EMPST53' : 'EMPST', 'REGION53' : 'REGION', 'MARRY53X' : 'MARRY', 'AGE53X' : 'AGE',\n",
    "                              'POVCAT15' : 'POVCAT', 'INSCOV15' : 'INSCOV'})\n",
    "\n",
    "    df = df[df['REGION'] >= 0] # remove values -1\n",
    "    df = df[df['AGE'] >= 0] # remove values -1\n",
    "\n",
    "    df = df[df['MARRY'] >= 0] # remove values -1, -7, -8, -9\n",
    "\n",
    "    df = df[df['ASTHDX'] >= 0] # remove values -1, -7, -8, -9\n",
    "\n",
    "    df = df[(df[['FTSTU','ACTDTY','HONRDC','RTHLTH','MNHLTH','HIBPDX','CHDDX','ANGIDX','EDUCYR','HIDEG',\n",
    "                             'MIDX','OHRTDX','STRKDX','EMPHDX','CHBRON','CHOLDX','CANCERDX','DIABDX',\n",
    "                             'JTPAIN','ARTHDX','ARTHTYPE','ASTHDX','ADHDADDX','PREGNT','WLKLIM',\n",
    "                             'ACTLIM','SOCLIM','COGLIM','DFHEAR42','DFSEE42','ADSMOK42',\n",
    "                             'PHQ242','EMPST','POVCAT','INSCOV']] >= -1).all(1)]  #for all other categorical features, remove values < -1\n",
    "\n",
    "    def utilization(row):\n",
    "        return row['OBTOTV15'] + row['OPTOTV15'] + row['ERTOT15'] + row['IPNGTD15'] + row['HHTOTD15']\n",
    "\n",
    "    df['TOTEXP15'] = df.apply(lambda row: utilization(row), axis=1)\n",
    "    lessE = df['TOTEXP15'] < 10.0\n",
    "    df.loc[lessE,'TOTEXP15'] = 0.0\n",
    "    moreE = df['TOTEXP15'] >= 10.0\n",
    "    df.loc[moreE,'TOTEXP15'] = 1.0\n",
    "\n",
    "    df = df.rename(columns = {'TOTEXP15' : 'UTILIZATION'})\n",
    "    return df"
   ]
  },
  {
   "cell_type": "code",
   "execution_count": 7,
   "id": "55df0a46-3c8d-4359-a955-43aff0a118eb",
   "metadata": {
    "id": "55df0a46-3c8d-4359-a955-43aff0a118eb"
   },
   "outputs": [],
   "source": [
    "def default_preprocessing20(df):\n",
    "    \"\"\"\n",
    "    1.Create a new column, RACE that is 'White' if RACEV2X = 1 and HISPANX = 2 i.e. non Hispanic White\n",
    "      and 'non-White' otherwise\n",
    "    2. Restrict to Panel 20\n",
    "    3. RENAME all columns that are PANEL/ROUND SPECIFIC\n",
    "    4. Drop rows based on certain values of individual features that correspond to missing/unknown - generally < -1\n",
    "    5. Compute UTILIZATION, binarize it to 0 (< 10) and 1 (>= 10)\n",
    "    \"\"\"\n",
    "    def race(row):\n",
    "        if ((row['HISPANX'] == 2) and (row['RACEV2X'] == 1)):  #non-Hispanic Whites are marked as WHITE; all others as NON-WHITE\n",
    "            return 'White'\n",
    "        return 'Non-White'\n",
    "\n",
    "    df['RACEV2X'] = df.apply(lambda row: race(row), axis=1)\n",
    "    df = df.rename(columns = {'RACEV2X' : 'RACE'})\n",
    "\n",
    "    df = df[df['PANEL'] == 20]\n",
    "\n",
    "    # RENAME COLUMNS\n",
    "    df = df.rename(columns = {'FTSTU53X' : 'FTSTU', 'ACTDTY53' : 'ACTDTY', 'HONRDC53' : 'HONRDC', 'RTHLTH53' : 'RTHLTH',\n",
    "                              'MNHLTH53' : 'MNHLTH', 'CHBRON53' : 'CHBRON', 'JTPAIN53' : 'JTPAIN', 'PREGNT53' : 'PREGNT',\n",
    "                              'WLKLIM53' : 'WLKLIM', 'ACTLIM53' : 'ACTLIM', 'SOCLIM53' : 'SOCLIM', 'COGLIM53' : 'COGLIM',\n",
    "                              'EMPST53' : 'EMPST', 'REGION53' : 'REGION', 'MARRY53X' : 'MARRY', 'AGE53X' : 'AGE',\n",
    "                              'POVCAT15' : 'POVCAT', 'INSCOV15' : 'INSCOV'})\n",
    "\n",
    "    df = df[df['REGION'] >= 0] # remove values -1\n",
    "    df = df[df['AGE'] >= 0] # remove values -1\n",
    "\n",
    "    df = df[df['MARRY'] >= 0] # remove values -1, -7, -8, -9\n",
    "\n",
    "    df = df[df['ASTHDX'] >= 0] # remove values -1, -7, -8, -9\n",
    "\n",
    "    df = df[(df[['FTSTU','ACTDTY','HONRDC','RTHLTH','MNHLTH','HIBPDX','CHDDX','ANGIDX','EDUCYR','HIDEG',\n",
    "                             'MIDX','OHRTDX','STRKDX','EMPHDX','CHBRON','CHOLDX','CANCERDX','DIABDX',\n",
    "                             'JTPAIN','ARTHDX','ARTHTYPE','ASTHDX','ADHDADDX','PREGNT','WLKLIM',\n",
    "                             'ACTLIM','SOCLIM','COGLIM','DFHEAR42','DFSEE42','ADSMOK42',\n",
    "                             'PHQ242','EMPST','POVCAT','INSCOV']] >= -1).all(1)]  #for all other categorical features, remove values < -1\n",
    "\n",
    "    def utilization(row):\n",
    "        return row['OBTOTV15'] + row['OPTOTV15'] + row['ERTOT15'] + row['IPNGTD15'] + row['HHTOTD15']\n",
    "\n",
    "    df['TOTEXP15'] = df.apply(lambda row: utilization(row), axis=1)\n",
    "    lessE = df['TOTEXP15'] < 10.0\n",
    "    df.loc[lessE,'TOTEXP15'] = 0.0\n",
    "    moreE = df['TOTEXP15'] >= 10.0\n",
    "    df.loc[moreE,'TOTEXP15'] = 1.0\n",
    "\n",
    "    df = df.rename(columns = {'TOTEXP15' : 'UTILIZATION'})\n",
    "    return df"
   ]
  },
  {
   "cell_type": "markdown",
   "id": "65c23a2c-9148-466c-8400-64f425d2e53f",
   "metadata": {
    "id": "65c23a2c-9148-466c-8400-64f425d2e53f"
   },
   "source": [
    "#### Taken from pre-processing scripts to retain same columns used in model development for tutorial"
   ]
  },
  {
   "cell_type": "code",
   "execution_count": 8,
   "id": "30c6d234-d213-4bda-96c2-e11605af0526",
   "metadata": {
    "id": "30c6d234-d213-4bda-96c2-e11605af0526"
   },
   "outputs": [],
   "source": [
    "label_name='UTILIZATION'\n",
    "favorable_classes=[1.0]\n",
    "protected_attribute_names=['RACE']\n",
    "privileged_classes=[['White']]\n",
    "instance_weights_name='PERWT15F'\n",
    "categorical_features=['REGION','SEX','MARRY',\n",
    "                                 'FTSTU','ACTDTY','HONRDC','RTHLTH','MNHLTH','HIBPDX','CHDDX','ANGIDX',\n",
    "                                 'MIDX','OHRTDX','STRKDX','EMPHDX','CHBRON','CHOLDX','CANCERDX','DIABDX',\n",
    "                                 'JTPAIN','ARTHDX','ARTHTYPE','ASTHDX','ADHDADDX','PREGNT','WLKLIM',\n",
    "                                 'ACTLIM','SOCLIM','COGLIM','DFHEAR42','DFSEE42', 'ADSMOK42', 'PHQ242',\n",
    "                                 'EMPST','POVCAT','INSCOV']\n",
    "\n",
    "features_to_keep=['REGION','AGE','SEX','RACE','MARRY',\n",
    "                                 'FTSTU','ACTDTY','HONRDC','RTHLTH','MNHLTH','HIBPDX','CHDDX','ANGIDX',\n",
    "                                 'MIDX','OHRTDX','STRKDX','EMPHDX','CHBRON','CHOLDX','CANCERDX','DIABDX',\n",
    "                                 'JTPAIN','ARTHDX','ARTHTYPE','ASTHDX','ADHDADDX','PREGNT','WLKLIM',\n",
    "                                 'ACTLIM','SOCLIM','COGLIM','DFHEAR42','DFSEE42', 'ADSMOK42',\n",
    "                                 'PCS42','MCS42','K6SUM42','PHQ242','EMPST','POVCAT','INSCOV','UTILIZATION', 'PERWT15F']\n",
    "features_to_drop=[]\n",
    "na_values=[]\n",
    "# custom_preprocessing=default_preprocessing <- don't need this yet for EDA\n",
    "metadata=default_mappings\n"
   ]
  },
  {
   "cell_type": "markdown",
   "id": "83c2e7d5-b7b6-4af2-a067-25a1102f1e1b",
   "metadata": {
    "id": "83c2e7d5-b7b6-4af2-a067-25a1102f1e1b"
   },
   "source": [
    "We encourage you to search through the repository and take a look at these scripts,\n",
    "they can be found in `../aif360/dataset/` in your forked AIF360 repository:\n",
    "* AIF360/aif360/datasets/meps_dataset_panel19_fy2015.py\n",
    "* AIF360/aif360/datasets/meps_dataset_panel20_fy2015.py\n",
    "\n",
    "To Explore the `Utilization` and `RACE` features, and the variables used to impute these features:\n",
    "* See the corresponding [HC 181 Codebook](https://meps.ahrq.gov/mepsweb/data_stats/download_data_files_detail.jsp?cboPufNumber=HC-181) for information on variables."
   ]
  },
  {
   "cell_type": "code",
   "execution_count": 9,
   "id": "ebc7d333-0247-4e92-a550-5f28a6739752",
   "metadata": {
    "id": "ebc7d333-0247-4e92-a550-5f28a6739752"
   },
   "outputs": [],
   "source": [
    "df_panel_19 = default_preprocessing19(raw_181)\n",
    "df_panel_19_reduced = df_panel_19[features_to_keep]"
   ]
  },
  {
   "cell_type": "code",
   "execution_count": 10,
   "id": "b2602e0e-e24e-4362-b378-6a1d2b24baff",
   "metadata": {
    "id": "b2602e0e-e24e-4362-b378-6a1d2b24baff"
   },
   "outputs": [],
   "source": [
    "df_panel_20 = default_preprocessing20(raw_181)\n",
    "df_panel_20_reduced = df_panel_20[features_to_keep]"
   ]
  },
  {
   "cell_type": "markdown",
   "id": "uFF-fscAT9wT",
   "metadata": {
    "id": "uFF-fscAT9wT"
   },
   "source": [
    "**END OF PRE-PROCRESSING**\n"
   ]
  },
  {
   "cell_type": "markdown",
   "id": "4e18fec6",
   "metadata": {
    "id": "4e18fec6"
   },
   "source": [
    "#### 2.2 Data shape and features"
   ]
  },
  {
   "cell_type": "code",
   "execution_count": 11,
   "id": "c16e7d10-db43-4bfb-b8b5-14d79da573f8",
   "metadata": {
    "colab": {
     "base_uri": "https://localhost:8080/",
     "height": 530
    },
    "id": "c16e7d10-db43-4bfb-b8b5-14d79da573f8",
    "outputId": "00537f4e-d784-4a9c-a692-e50ef2f281ee"
   },
   "outputs": [
    {
     "data": {
      "text/html": [
       "<div>\n",
       "<style scoped>\n",
       "    .dataframe tbody tr th:only-of-type {\n",
       "        vertical-align: middle;\n",
       "    }\n",
       "\n",
       "    .dataframe tbody tr th {\n",
       "        vertical-align: top;\n",
       "    }\n",
       "\n",
       "    .dataframe thead th {\n",
       "        text-align: right;\n",
       "    }\n",
       "</style>\n",
       "<table border=\"1\" class=\"dataframe\">\n",
       "  <thead>\n",
       "    <tr style=\"text-align: right;\">\n",
       "      <th></th>\n",
       "      <th>REGION</th>\n",
       "      <th>AGE</th>\n",
       "      <th>SEX</th>\n",
       "      <th>RACE</th>\n",
       "      <th>MARRY</th>\n",
       "      <th>FTSTU</th>\n",
       "      <th>ACTDTY</th>\n",
       "      <th>HONRDC</th>\n",
       "      <th>RTHLTH</th>\n",
       "      <th>MNHLTH</th>\n",
       "      <th>...</th>\n",
       "      <th>ADSMOK42</th>\n",
       "      <th>PCS42</th>\n",
       "      <th>MCS42</th>\n",
       "      <th>K6SUM42</th>\n",
       "      <th>PHQ242</th>\n",
       "      <th>EMPST</th>\n",
       "      <th>POVCAT</th>\n",
       "      <th>INSCOV</th>\n",
       "      <th>UTILIZATION</th>\n",
       "      <th>PERWT15F</th>\n",
       "    </tr>\n",
       "  </thead>\n",
       "  <tbody>\n",
       "    <tr>\n",
       "      <th>0</th>\n",
       "      <td>2</td>\n",
       "      <td>53</td>\n",
       "      <td>1</td>\n",
       "      <td>White</td>\n",
       "      <td>5</td>\n",
       "      <td>-1</td>\n",
       "      <td>2</td>\n",
       "      <td>2</td>\n",
       "      <td>4</td>\n",
       "      <td>3</td>\n",
       "      <td>...</td>\n",
       "      <td>2</td>\n",
       "      <td>25.93</td>\n",
       "      <td>58.47</td>\n",
       "      <td>3</td>\n",
       "      <td>0</td>\n",
       "      <td>4</td>\n",
       "      <td>1</td>\n",
       "      <td>2</td>\n",
       "      <td>1</td>\n",
       "      <td>21854.981705</td>\n",
       "    </tr>\n",
       "    <tr>\n",
       "      <th>1</th>\n",
       "      <td>2</td>\n",
       "      <td>56</td>\n",
       "      <td>2</td>\n",
       "      <td>White</td>\n",
       "      <td>3</td>\n",
       "      <td>-1</td>\n",
       "      <td>2</td>\n",
       "      <td>2</td>\n",
       "      <td>4</td>\n",
       "      <td>3</td>\n",
       "      <td>...</td>\n",
       "      <td>2</td>\n",
       "      <td>20.42</td>\n",
       "      <td>26.57</td>\n",
       "      <td>17</td>\n",
       "      <td>6</td>\n",
       "      <td>4</td>\n",
       "      <td>3</td>\n",
       "      <td>2</td>\n",
       "      <td>1</td>\n",
       "      <td>18169.604822</td>\n",
       "    </tr>\n",
       "    <tr>\n",
       "      <th>3</th>\n",
       "      <td>2</td>\n",
       "      <td>23</td>\n",
       "      <td>2</td>\n",
       "      <td>White</td>\n",
       "      <td>5</td>\n",
       "      <td>3</td>\n",
       "      <td>2</td>\n",
       "      <td>2</td>\n",
       "      <td>1</td>\n",
       "      <td>1</td>\n",
       "      <td>...</td>\n",
       "      <td>2</td>\n",
       "      <td>53.12</td>\n",
       "      <td>50.33</td>\n",
       "      <td>7</td>\n",
       "      <td>0</td>\n",
       "      <td>1</td>\n",
       "      <td>2</td>\n",
       "      <td>2</td>\n",
       "      <td>0</td>\n",
       "      <td>17191.832515</td>\n",
       "    </tr>\n",
       "    <tr>\n",
       "      <th>4</th>\n",
       "      <td>2</td>\n",
       "      <td>3</td>\n",
       "      <td>1</td>\n",
       "      <td>White</td>\n",
       "      <td>6</td>\n",
       "      <td>-1</td>\n",
       "      <td>3</td>\n",
       "      <td>3</td>\n",
       "      <td>1</td>\n",
       "      <td>3</td>\n",
       "      <td>...</td>\n",
       "      <td>-1</td>\n",
       "      <td>-1.00</td>\n",
       "      <td>-1.00</td>\n",
       "      <td>-1</td>\n",
       "      <td>-1</td>\n",
       "      <td>-1</td>\n",
       "      <td>2</td>\n",
       "      <td>2</td>\n",
       "      <td>0</td>\n",
       "      <td>20261.485463</td>\n",
       "    </tr>\n",
       "    <tr>\n",
       "      <th>5</th>\n",
       "      <td>3</td>\n",
       "      <td>27</td>\n",
       "      <td>1</td>\n",
       "      <td>Non-White</td>\n",
       "      <td>1</td>\n",
       "      <td>-1</td>\n",
       "      <td>1</td>\n",
       "      <td>4</td>\n",
       "      <td>2</td>\n",
       "      <td>1</td>\n",
       "      <td>...</td>\n",
       "      <td>-1</td>\n",
       "      <td>-1.00</td>\n",
       "      <td>-1.00</td>\n",
       "      <td>-1</td>\n",
       "      <td>-1</td>\n",
       "      <td>1</td>\n",
       "      <td>3</td>\n",
       "      <td>1</td>\n",
       "      <td>0</td>\n",
       "      <td>0.000000</td>\n",
       "    </tr>\n",
       "    <tr>\n",
       "      <th>...</th>\n",
       "      <td>...</td>\n",
       "      <td>...</td>\n",
       "      <td>...</td>\n",
       "      <td>...</td>\n",
       "      <td>...</td>\n",
       "      <td>...</td>\n",
       "      <td>...</td>\n",
       "      <td>...</td>\n",
       "      <td>...</td>\n",
       "      <td>...</td>\n",
       "      <td>...</td>\n",
       "      <td>...</td>\n",
       "      <td>...</td>\n",
       "      <td>...</td>\n",
       "      <td>...</td>\n",
       "      <td>...</td>\n",
       "      <td>...</td>\n",
       "      <td>...</td>\n",
       "      <td>...</td>\n",
       "      <td>...</td>\n",
       "      <td>...</td>\n",
       "    </tr>\n",
       "    <tr>\n",
       "      <th>16573</th>\n",
       "      <td>3</td>\n",
       "      <td>25</td>\n",
       "      <td>1</td>\n",
       "      <td>Non-White</td>\n",
       "      <td>1</td>\n",
       "      <td>-1</td>\n",
       "      <td>2</td>\n",
       "      <td>2</td>\n",
       "      <td>1</td>\n",
       "      <td>1</td>\n",
       "      <td>...</td>\n",
       "      <td>2</td>\n",
       "      <td>56.71</td>\n",
       "      <td>62.39</td>\n",
       "      <td>0</td>\n",
       "      <td>0</td>\n",
       "      <td>1</td>\n",
       "      <td>1</td>\n",
       "      <td>1</td>\n",
       "      <td>0</td>\n",
       "      <td>4111.315754</td>\n",
       "    </tr>\n",
       "    <tr>\n",
       "      <th>16574</th>\n",
       "      <td>3</td>\n",
       "      <td>25</td>\n",
       "      <td>2</td>\n",
       "      <td>Non-White</td>\n",
       "      <td>1</td>\n",
       "      <td>-1</td>\n",
       "      <td>2</td>\n",
       "      <td>2</td>\n",
       "      <td>1</td>\n",
       "      <td>1</td>\n",
       "      <td>...</td>\n",
       "      <td>2</td>\n",
       "      <td>56.71</td>\n",
       "      <td>62.39</td>\n",
       "      <td>0</td>\n",
       "      <td>0</td>\n",
       "      <td>4</td>\n",
       "      <td>1</td>\n",
       "      <td>1</td>\n",
       "      <td>0</td>\n",
       "      <td>5415.228173</td>\n",
       "    </tr>\n",
       "    <tr>\n",
       "      <th>16575</th>\n",
       "      <td>3</td>\n",
       "      <td>2</td>\n",
       "      <td>2</td>\n",
       "      <td>White</td>\n",
       "      <td>6</td>\n",
       "      <td>-1</td>\n",
       "      <td>3</td>\n",
       "      <td>3</td>\n",
       "      <td>1</td>\n",
       "      <td>1</td>\n",
       "      <td>...</td>\n",
       "      <td>-1</td>\n",
       "      <td>-1.00</td>\n",
       "      <td>-1.00</td>\n",
       "      <td>-1</td>\n",
       "      <td>-1</td>\n",
       "      <td>-1</td>\n",
       "      <td>1</td>\n",
       "      <td>2</td>\n",
       "      <td>0</td>\n",
       "      <td>3896.116219</td>\n",
       "    </tr>\n",
       "    <tr>\n",
       "      <th>16576</th>\n",
       "      <td>1</td>\n",
       "      <td>54</td>\n",
       "      <td>2</td>\n",
       "      <td>Non-White</td>\n",
       "      <td>3</td>\n",
       "      <td>-1</td>\n",
       "      <td>2</td>\n",
       "      <td>2</td>\n",
       "      <td>1</td>\n",
       "      <td>1</td>\n",
       "      <td>...</td>\n",
       "      <td>2</td>\n",
       "      <td>43.97</td>\n",
       "      <td>42.45</td>\n",
       "      <td>24</td>\n",
       "      <td>0</td>\n",
       "      <td>1</td>\n",
       "      <td>3</td>\n",
       "      <td>2</td>\n",
       "      <td>0</td>\n",
       "      <td>4883.851005</td>\n",
       "    </tr>\n",
       "    <tr>\n",
       "      <th>16577</th>\n",
       "      <td>1</td>\n",
       "      <td>73</td>\n",
       "      <td>2</td>\n",
       "      <td>Non-White</td>\n",
       "      <td>2</td>\n",
       "      <td>-1</td>\n",
       "      <td>4</td>\n",
       "      <td>2</td>\n",
       "      <td>2</td>\n",
       "      <td>1</td>\n",
       "      <td>...</td>\n",
       "      <td>2</td>\n",
       "      <td>42.68</td>\n",
       "      <td>43.46</td>\n",
       "      <td>0</td>\n",
       "      <td>0</td>\n",
       "      <td>4</td>\n",
       "      <td>3</td>\n",
       "      <td>2</td>\n",
       "      <td>0</td>\n",
       "      <td>6630.588948</td>\n",
       "    </tr>\n",
       "  </tbody>\n",
       "</table>\n",
       "<p>15830 rows × 43 columns</p>\n",
       "</div>"
      ],
      "text/plain": [
       "       REGION  AGE  SEX       RACE  MARRY  FTSTU  ACTDTY  HONRDC  RTHLTH  \\\n",
       "0           2   53    1      White      5     -1       2       2       4   \n",
       "1           2   56    2      White      3     -1       2       2       4   \n",
       "3           2   23    2      White      5      3       2       2       1   \n",
       "4           2    3    1      White      6     -1       3       3       1   \n",
       "5           3   27    1  Non-White      1     -1       1       4       2   \n",
       "...       ...  ...  ...        ...    ...    ...     ...     ...     ...   \n",
       "16573       3   25    1  Non-White      1     -1       2       2       1   \n",
       "16574       3   25    2  Non-White      1     -1       2       2       1   \n",
       "16575       3    2    2      White      6     -1       3       3       1   \n",
       "16576       1   54    2  Non-White      3     -1       2       2       1   \n",
       "16577       1   73    2  Non-White      2     -1       4       2       2   \n",
       "\n",
       "       MNHLTH  ...  ADSMOK42  PCS42  MCS42  K6SUM42  PHQ242  EMPST  POVCAT  \\\n",
       "0           3  ...         2  25.93  58.47        3       0      4       1   \n",
       "1           3  ...         2  20.42  26.57       17       6      4       3   \n",
       "3           1  ...         2  53.12  50.33        7       0      1       2   \n",
       "4           3  ...        -1  -1.00  -1.00       -1      -1     -1       2   \n",
       "5           1  ...        -1  -1.00  -1.00       -1      -1      1       3   \n",
       "...       ...  ...       ...    ...    ...      ...     ...    ...     ...   \n",
       "16573       1  ...         2  56.71  62.39        0       0      1       1   \n",
       "16574       1  ...         2  56.71  62.39        0       0      4       1   \n",
       "16575       1  ...        -1  -1.00  -1.00       -1      -1     -1       1   \n",
       "16576       1  ...         2  43.97  42.45       24       0      1       3   \n",
       "16577       1  ...         2  42.68  43.46        0       0      4       3   \n",
       "\n",
       "       INSCOV  UTILIZATION      PERWT15F  \n",
       "0           2            1  21854.981705  \n",
       "1           2            1  18169.604822  \n",
       "3           2            0  17191.832515  \n",
       "4           2            0  20261.485463  \n",
       "5           1            0      0.000000  \n",
       "...       ...          ...           ...  \n",
       "16573       1            0   4111.315754  \n",
       "16574       1            0   5415.228173  \n",
       "16575       2            0   3896.116219  \n",
       "16576       2            0   4883.851005  \n",
       "16577       2            0   6630.588948  \n",
       "\n",
       "[15830 rows x 43 columns]"
      ]
     },
     "execution_count": 11,
     "metadata": {},
     "output_type": "execute_result"
    }
   ],
   "source": [
    "df_panel_19_reduced"
   ]
  },
  {
   "cell_type": "code",
   "execution_count": 12,
   "id": "3e602c93-d281-4821-8b1c-67125238a1a1",
   "metadata": {
    "colab": {
     "base_uri": "https://localhost:8080/",
     "height": 617
    },
    "id": "3e602c93-d281-4821-8b1c-67125238a1a1",
    "outputId": "a083ffe7-3261-47c0-ccf6-72a03fdddf0e"
   },
   "outputs": [
    {
     "data": {
      "text/html": [
       "<div>\n",
       "<style scoped>\n",
       "    .dataframe tbody tr th:only-of-type {\n",
       "        vertical-align: middle;\n",
       "    }\n",
       "\n",
       "    .dataframe tbody tr th {\n",
       "        vertical-align: top;\n",
       "    }\n",
       "\n",
       "    .dataframe thead th {\n",
       "        text-align: right;\n",
       "    }\n",
       "</style>\n",
       "<table border=\"1\" class=\"dataframe\">\n",
       "  <thead>\n",
       "    <tr style=\"text-align: right;\">\n",
       "      <th></th>\n",
       "      <th>REGION</th>\n",
       "      <th>AGE</th>\n",
       "      <th>SEX</th>\n",
       "      <th>RACE</th>\n",
       "      <th>MARRY</th>\n",
       "      <th>FTSTU</th>\n",
       "      <th>ACTDTY</th>\n",
       "      <th>HONRDC</th>\n",
       "      <th>RTHLTH</th>\n",
       "      <th>MNHLTH</th>\n",
       "      <th>...</th>\n",
       "      <th>ADSMOK42</th>\n",
       "      <th>PCS42</th>\n",
       "      <th>MCS42</th>\n",
       "      <th>K6SUM42</th>\n",
       "      <th>PHQ242</th>\n",
       "      <th>EMPST</th>\n",
       "      <th>POVCAT</th>\n",
       "      <th>INSCOV</th>\n",
       "      <th>UTILIZATION</th>\n",
       "      <th>PERWT15F</th>\n",
       "    </tr>\n",
       "  </thead>\n",
       "  <tbody>\n",
       "    <tr>\n",
       "      <th>16578</th>\n",
       "      <td>3</td>\n",
       "      <td>65</td>\n",
       "      <td>1</td>\n",
       "      <td>Non-White</td>\n",
       "      <td>1</td>\n",
       "      <td>-1</td>\n",
       "      <td>4</td>\n",
       "      <td>1</td>\n",
       "      <td>3</td>\n",
       "      <td>3</td>\n",
       "      <td>...</td>\n",
       "      <td>2</td>\n",
       "      <td>39.15</td>\n",
       "      <td>64.23</td>\n",
       "      <td>1</td>\n",
       "      <td>1</td>\n",
       "      <td>1</td>\n",
       "      <td>4</td>\n",
       "      <td>1</td>\n",
       "      <td>0</td>\n",
       "      <td>11966.862856</td>\n",
       "    </tr>\n",
       "    <tr>\n",
       "      <th>16579</th>\n",
       "      <td>3</td>\n",
       "      <td>57</td>\n",
       "      <td>2</td>\n",
       "      <td>Non-White</td>\n",
       "      <td>1</td>\n",
       "      <td>-1</td>\n",
       "      <td>2</td>\n",
       "      <td>2</td>\n",
       "      <td>3</td>\n",
       "      <td>3</td>\n",
       "      <td>...</td>\n",
       "      <td>2</td>\n",
       "      <td>23.61</td>\n",
       "      <td>48.28</td>\n",
       "      <td>5</td>\n",
       "      <td>3</td>\n",
       "      <td>4</td>\n",
       "      <td>4</td>\n",
       "      <td>1</td>\n",
       "      <td>1</td>\n",
       "      <td>10300.188631</td>\n",
       "    </tr>\n",
       "    <tr>\n",
       "      <th>16580</th>\n",
       "      <td>4</td>\n",
       "      <td>40</td>\n",
       "      <td>1</td>\n",
       "      <td>Non-White</td>\n",
       "      <td>1</td>\n",
       "      <td>-1</td>\n",
       "      <td>2</td>\n",
       "      <td>2</td>\n",
       "      <td>3</td>\n",
       "      <td>3</td>\n",
       "      <td>...</td>\n",
       "      <td>2</td>\n",
       "      <td>53.97</td>\n",
       "      <td>52.82</td>\n",
       "      <td>4</td>\n",
       "      <td>0</td>\n",
       "      <td>1</td>\n",
       "      <td>5</td>\n",
       "      <td>1</td>\n",
       "      <td>0</td>\n",
       "      <td>18749.279706</td>\n",
       "    </tr>\n",
       "    <tr>\n",
       "      <th>16581</th>\n",
       "      <td>3</td>\n",
       "      <td>55</td>\n",
       "      <td>2</td>\n",
       "      <td>Non-White</td>\n",
       "      <td>5</td>\n",
       "      <td>-1</td>\n",
       "      <td>2</td>\n",
       "      <td>2</td>\n",
       "      <td>3</td>\n",
       "      <td>3</td>\n",
       "      <td>...</td>\n",
       "      <td>1</td>\n",
       "      <td>40.50</td>\n",
       "      <td>61.61</td>\n",
       "      <td>0</td>\n",
       "      <td>0</td>\n",
       "      <td>1</td>\n",
       "      <td>2</td>\n",
       "      <td>2</td>\n",
       "      <td>0</td>\n",
       "      <td>5532.628347</td>\n",
       "    </tr>\n",
       "    <tr>\n",
       "      <th>16582</th>\n",
       "      <td>3</td>\n",
       "      <td>21</td>\n",
       "      <td>2</td>\n",
       "      <td>Non-White</td>\n",
       "      <td>5</td>\n",
       "      <td>1</td>\n",
       "      <td>2</td>\n",
       "      <td>2</td>\n",
       "      <td>3</td>\n",
       "      <td>3</td>\n",
       "      <td>...</td>\n",
       "      <td>-1</td>\n",
       "      <td>-1.00</td>\n",
       "      <td>-1.00</td>\n",
       "      <td>-1</td>\n",
       "      <td>-1</td>\n",
       "      <td>4</td>\n",
       "      <td>2</td>\n",
       "      <td>3</td>\n",
       "      <td>0</td>\n",
       "      <td>0.000000</td>\n",
       "    </tr>\n",
       "    <tr>\n",
       "      <th>...</th>\n",
       "      <td>...</td>\n",
       "      <td>...</td>\n",
       "      <td>...</td>\n",
       "      <td>...</td>\n",
       "      <td>...</td>\n",
       "      <td>...</td>\n",
       "      <td>...</td>\n",
       "      <td>...</td>\n",
       "      <td>...</td>\n",
       "      <td>...</td>\n",
       "      <td>...</td>\n",
       "      <td>...</td>\n",
       "      <td>...</td>\n",
       "      <td>...</td>\n",
       "      <td>...</td>\n",
       "      <td>...</td>\n",
       "      <td>...</td>\n",
       "      <td>...</td>\n",
       "      <td>...</td>\n",
       "      <td>...</td>\n",
       "      <td>...</td>\n",
       "    </tr>\n",
       "    <tr>\n",
       "      <th>35422</th>\n",
       "      <td>3</td>\n",
       "      <td>8</td>\n",
       "      <td>1</td>\n",
       "      <td>Non-White</td>\n",
       "      <td>6</td>\n",
       "      <td>-1</td>\n",
       "      <td>3</td>\n",
       "      <td>3</td>\n",
       "      <td>1</td>\n",
       "      <td>1</td>\n",
       "      <td>...</td>\n",
       "      <td>-1</td>\n",
       "      <td>-1.00</td>\n",
       "      <td>-1.00</td>\n",
       "      <td>-1</td>\n",
       "      <td>-1</td>\n",
       "      <td>-1</td>\n",
       "      <td>1</td>\n",
       "      <td>2</td>\n",
       "      <td>0</td>\n",
       "      <td>2812.010290</td>\n",
       "    </tr>\n",
       "    <tr>\n",
       "      <th>35423</th>\n",
       "      <td>2</td>\n",
       "      <td>30</td>\n",
       "      <td>2</td>\n",
       "      <td>Non-White</td>\n",
       "      <td>5</td>\n",
       "      <td>-1</td>\n",
       "      <td>2</td>\n",
       "      <td>2</td>\n",
       "      <td>3</td>\n",
       "      <td>2</td>\n",
       "      <td>...</td>\n",
       "      <td>2</td>\n",
       "      <td>44.32</td>\n",
       "      <td>28.41</td>\n",
       "      <td>7</td>\n",
       "      <td>2</td>\n",
       "      <td>1</td>\n",
       "      <td>3</td>\n",
       "      <td>1</td>\n",
       "      <td>1</td>\n",
       "      <td>11481.496934</td>\n",
       "    </tr>\n",
       "    <tr>\n",
       "      <th>35424</th>\n",
       "      <td>3</td>\n",
       "      <td>32</td>\n",
       "      <td>1</td>\n",
       "      <td>Non-White</td>\n",
       "      <td>1</td>\n",
       "      <td>-1</td>\n",
       "      <td>2</td>\n",
       "      <td>2</td>\n",
       "      <td>3</td>\n",
       "      <td>2</td>\n",
       "      <td>...</td>\n",
       "      <td>2</td>\n",
       "      <td>36.80</td>\n",
       "      <td>61.23</td>\n",
       "      <td>1</td>\n",
       "      <td>0</td>\n",
       "      <td>1</td>\n",
       "      <td>5</td>\n",
       "      <td>1</td>\n",
       "      <td>0</td>\n",
       "      <td>8357.376060</td>\n",
       "    </tr>\n",
       "    <tr>\n",
       "      <th>35425</th>\n",
       "      <td>3</td>\n",
       "      <td>32</td>\n",
       "      <td>2</td>\n",
       "      <td>Non-White</td>\n",
       "      <td>1</td>\n",
       "      <td>-1</td>\n",
       "      <td>2</td>\n",
       "      <td>2</td>\n",
       "      <td>2</td>\n",
       "      <td>2</td>\n",
       "      <td>...</td>\n",
       "      <td>2</td>\n",
       "      <td>56.48</td>\n",
       "      <td>47.77</td>\n",
       "      <td>1</td>\n",
       "      <td>0</td>\n",
       "      <td>1</td>\n",
       "      <td>5</td>\n",
       "      <td>1</td>\n",
       "      <td>0</td>\n",
       "      <td>8389.102961</td>\n",
       "    </tr>\n",
       "    <tr>\n",
       "      <th>35426</th>\n",
       "      <td>3</td>\n",
       "      <td>4</td>\n",
       "      <td>1</td>\n",
       "      <td>Non-White</td>\n",
       "      <td>6</td>\n",
       "      <td>-1</td>\n",
       "      <td>3</td>\n",
       "      <td>3</td>\n",
       "      <td>2</td>\n",
       "      <td>2</td>\n",
       "      <td>...</td>\n",
       "      <td>-1</td>\n",
       "      <td>-1.00</td>\n",
       "      <td>-1.00</td>\n",
       "      <td>-1</td>\n",
       "      <td>-1</td>\n",
       "      <td>-1</td>\n",
       "      <td>5</td>\n",
       "      <td>1</td>\n",
       "      <td>0</td>\n",
       "      <td>7471.432983</td>\n",
       "    </tr>\n",
       "  </tbody>\n",
       "</table>\n",
       "<p>17570 rows × 43 columns</p>\n",
       "</div>"
      ],
      "text/plain": [
       "       REGION  AGE  SEX       RACE  MARRY  FTSTU  ACTDTY  HONRDC  RTHLTH  \\\n",
       "16578       3   65    1  Non-White      1     -1       4       1       3   \n",
       "16579       3   57    2  Non-White      1     -1       2       2       3   \n",
       "16580       4   40    1  Non-White      1     -1       2       2       3   \n",
       "16581       3   55    2  Non-White      5     -1       2       2       3   \n",
       "16582       3   21    2  Non-White      5      1       2       2       3   \n",
       "...       ...  ...  ...        ...    ...    ...     ...     ...     ...   \n",
       "35422       3    8    1  Non-White      6     -1       3       3       1   \n",
       "35423       2   30    2  Non-White      5     -1       2       2       3   \n",
       "35424       3   32    1  Non-White      1     -1       2       2       3   \n",
       "35425       3   32    2  Non-White      1     -1       2       2       2   \n",
       "35426       3    4    1  Non-White      6     -1       3       3       2   \n",
       "\n",
       "       MNHLTH  ...  ADSMOK42  PCS42  MCS42  K6SUM42  PHQ242  EMPST  POVCAT  \\\n",
       "16578       3  ...         2  39.15  64.23        1       1      1       4   \n",
       "16579       3  ...         2  23.61  48.28        5       3      4       4   \n",
       "16580       3  ...         2  53.97  52.82        4       0      1       5   \n",
       "16581       3  ...         1  40.50  61.61        0       0      1       2   \n",
       "16582       3  ...        -1  -1.00  -1.00       -1      -1      4       2   \n",
       "...       ...  ...       ...    ...    ...      ...     ...    ...     ...   \n",
       "35422       1  ...        -1  -1.00  -1.00       -1      -1     -1       1   \n",
       "35423       2  ...         2  44.32  28.41        7       2      1       3   \n",
       "35424       2  ...         2  36.80  61.23        1       0      1       5   \n",
       "35425       2  ...         2  56.48  47.77        1       0      1       5   \n",
       "35426       2  ...        -1  -1.00  -1.00       -1      -1     -1       5   \n",
       "\n",
       "       INSCOV  UTILIZATION      PERWT15F  \n",
       "16578       1            0  11966.862856  \n",
       "16579       1            1  10300.188631  \n",
       "16580       1            0  18749.279706  \n",
       "16581       2            0   5532.628347  \n",
       "16582       3            0      0.000000  \n",
       "...       ...          ...           ...  \n",
       "35422       2            0   2812.010290  \n",
       "35423       1            1  11481.496934  \n",
       "35424       1            0   8357.376060  \n",
       "35425       1            0   8389.102961  \n",
       "35426       1            0   7471.432983  \n",
       "\n",
       "[17570 rows x 43 columns]"
      ]
     },
     "execution_count": 12,
     "metadata": {},
     "output_type": "execute_result"
    }
   ],
   "source": [
    "df_panel_20_reduced"
   ]
  },
  {
   "cell_type": "markdown",
   "id": "AkWfFpiSNGVc",
   "metadata": {
    "id": "AkWfFpiSNGVc"
   },
   "source": [
    "### **Data Overview and Feature Summary of `df_panel_19_reduced`**"
   ]
  },
  {
   "cell_type": "code",
   "execution_count": 13,
   "id": "Q-8pU5D2KthB",
   "metadata": {
    "colab": {
     "base_uri": "https://localhost:8080/"
    },
    "id": "Q-8pU5D2KthB",
    "outputId": "b2c1f23c-45cf-45f7-cac5-23083b4989c0"
   },
   "outputs": [
    {
     "name": "stdout",
     "output_type": "stream",
     "text": [
      "Feature Names:  ['REGION', 'AGE', 'SEX', 'RACE', 'MARRY', 'FTSTU', 'ACTDTY', 'HONRDC', 'RTHLTH', 'MNHLTH', 'HIBPDX', 'CHDDX', 'ANGIDX', 'MIDX', 'OHRTDX', 'STRKDX', 'EMPHDX', 'CHBRON', 'CHOLDX', 'CANCERDX', 'DIABDX', 'JTPAIN', 'ARTHDX', 'ARTHTYPE', 'ASTHDX', 'ADHDADDX', 'PREGNT', 'WLKLIM', 'ACTLIM', 'SOCLIM', 'COGLIM', 'DFHEAR42', 'DFSEE42', 'ADSMOK42', 'PCS42', 'MCS42', 'K6SUM42', 'PHQ242', 'EMPST', 'POVCAT', 'INSCOV', 'UTILIZATION', 'PERWT15F']\n"
     ]
    }
   ],
   "source": [
    "# identify feature names (columns)\n",
    "feature_names = df_panel_19_reduced.columns.tolist()\n",
    "print(\"Feature Names: \", feature_names)"
   ]
  },
  {
   "cell_type": "markdown",
   "id": "93oE6kmIW4Og",
   "metadata": {
    "id": "93oE6kmIW4Og"
   },
   "source": [
    "Feature Names | Definition/Explanation\n",
    "--|--\n",
    "REGION | Census region; 1:Northeast, 2:Midwest, 3:South, 4:West\n",
    "FTSTU | Student status\n",
    "ACTDTY | Active duty\n",
    "HONRDC | Honorable discharge\n",
    "RTHLTH | Perceived health status\n",
    "MNHLTH | Perceived mental health status\n",
    "HIBPDX | High blood pressure\n",
    "CHDDX | Asked if ever diagnosed with coronary heart disease\n",
    "ANGIDX | Asked if ever diagnosed with angina or angina pectoris\n",
    "MIDX | Asked if ever diagnosed with heart attack or myocardial infraction\n",
    "OHRTDX | Asked if ever diagnosed with any kind of heart disease or condition\n",
    "STRKDX | Asked if ever diagnosed with a stroke or transient ischemic attack\n",
    "EMPHDX | Asked if ever diagnosed with emphysema\n",
    "CHBRON | Asked if had chronic bronchitis in last 12 months\n",
    "CHOLDX | Asked if ever diagnosed with high cholesterol\n",
    "CANCERDX | Asked if ever diagnosed with cancer or malignancy of any kind\n",
    "DIABDX | Asked if ever diagnosed with diabetes\n",
    "JTPAIN | Asked if had pain, swelling, or stiffness around a joint in last 12 months\n",
    "ARTHDX | Asked if ever diagnosed with arthritis\n",
    "ARTHTYPE | Arthritis Type; 1:Rheumatoid, 2: Osteoarthritis, 3:Non-specific\n",
    "ASTHDX | Asked if ever diagnosed with asthma\n",
    "ADHDADDX | Asked if ever diagnosed with ADHD or ADD\n",
    "WLKLIM | Walking limitations\n",
    "ACTLIM | Work, housework, and school limitations\n",
    "SOCLIM | Social limitations\n",
    "COGLIM | Cognitive limitations\n",
    "DFHEAR42 | Difficulty hearing\n",
    "DFSEE42 | Difficulty seeing\n",
    "ADSMOK42 | Currently smokes\n",
    "K6SUM42 | Kessler Index for non-specific, rather than disorder-specific, psychological distress: 0 None of the Time 1 A Little of the Time 2 Some of the Time 3 Most of the Time 4 All of the Time\n",
    "PHQ242 | Summation of two variables: ADINTR42 – During the past two weeks, bothered by having little interest or pleasure in doing things, ADDPRS42 – During the past two weeks, bothered by feeling down, depressed, or hopeless\n",
    "EMPST | Employment status\n",
    "POVCAT | Poverty status\n",
    "INSCOV | Health insurance coverage; 1:private, 2:public, 3:uninsured"
   ]
  },
  {
   "cell_type": "code",
   "execution_count": 14,
   "id": "6bkdWuUFN7iB",
   "metadata": {
    "colab": {
     "base_uri": "https://localhost:8080/"
    },
    "id": "6bkdWuUFN7iB",
    "outputId": "3ad15f32-422f-4283-b02a-d7d08a98d4f7"
   },
   "outputs": [
    {
     "name": "stdout",
     "output_type": "stream",
     "text": [
      "Categorical Features:  ['RACE']\n"
     ]
    }
   ],
   "source": [
    "# check for categorical features\n",
    "categorical_features = df_panel_19_reduced.select_dtypes(include=['object', 'category']).columns.tolist()\n",
    "print(\"Categorical Features: \", categorical_features)"
   ]
  },
  {
   "cell_type": "code",
   "execution_count": 15,
   "id": "BWCzi9KKN9VF",
   "metadata": {
    "colab": {
     "base_uri": "https://localhost:8080/"
    },
    "id": "BWCzi9KKN9VF",
    "outputId": "c01106c3-976a-4a18-e772-50092bbaafdb"
   },
   "outputs": [
    {
     "name": "stdout",
     "output_type": "stream",
     "text": [
      "Summary Statistics:\n",
      "               REGION           AGE           SEX       RACE         MARRY  \\\n",
      "count   15830.000000  15830.000000  15830.000000      15830  15830.000000   \n",
      "unique           NaN           NaN           NaN          2           NaN   \n",
      "top              NaN           NaN           NaN  Non-White           NaN   \n",
      "freq             NaN           NaN           NaN      10174           NaN   \n",
      "mean        2.825584     35.090461      1.521162        NaN      3.661213   \n",
      "std         1.002033     22.475549      0.499568        NaN      2.121255   \n",
      "min         1.000000      0.000000      1.000000        NaN      1.000000   \n",
      "25%         2.000000     15.000000      1.000000        NaN      1.000000   \n",
      "50%         3.000000     33.000000      2.000000        NaN      5.000000   \n",
      "75%         4.000000     53.000000      2.000000        NaN      6.000000   \n",
      "max         4.000000     85.000000      2.000000        NaN     10.000000   \n",
      "\n",
      "               FTSTU        ACTDTY        HONRDC        RTHLTH        MNHLTH  \\\n",
      "count   15830.000000  15830.000000  15830.000000  15830.000000  15830.000000   \n",
      "unique           NaN           NaN           NaN           NaN           NaN   \n",
      "top              NaN           NaN           NaN           NaN           NaN   \n",
      "freq             NaN           NaN           NaN           NaN           NaN   \n",
      "mean       -0.720088      2.581364      2.224889      2.187871      1.993051   \n",
      "std         0.910025      0.758747      0.512242      1.054677      1.002657   \n",
      "min        -1.000000      1.000000      1.000000     -1.000000     -1.000000   \n",
      "25%        -1.000000      2.000000      2.000000      1.000000      1.000000   \n",
      "50%        -1.000000      2.000000      2.000000      2.000000      2.000000   \n",
      "75%        -1.000000      3.000000      3.000000      3.000000      3.000000   \n",
      "max         3.000000      4.000000      4.000000      5.000000      5.000000   \n",
      "\n",
      "        ...      ADSMOK42         PCS42         MCS42       K6SUM42  \\\n",
      "count   ...  15830.000000  15830.000000  15830.000000  15830.000000   \n",
      "unique  ...           NaN           NaN           NaN           NaN   \n",
      "top     ...           NaN           NaN           NaN           NaN   \n",
      "freq    ...           NaN           NaN           NaN           NaN   \n",
      "mean    ...      0.726153     29.358455     30.851517      1.274289   \n",
      "std     ...      1.419339     25.996522     26.968146      3.955331   \n",
      "min     ...     -1.000000     -9.000000     -9.000000     -9.000000   \n",
      "25%     ...     -1.000000     -1.000000     -1.000000     -1.000000   \n",
      "50%     ...      2.000000     39.505000     42.480000      0.000000   \n",
      "75%     ...      2.000000     54.800000     56.580000      2.000000   \n",
      "max     ...      2.000000     72.070000     75.510000     24.000000   \n",
      "\n",
      "              PHQ242         EMPST        POVCAT        INSCOV   UTILIZATION  \\\n",
      "count   15830.000000  15830.000000  15830.000000  15830.000000  15830.000000   \n",
      "unique           NaN           NaN           NaN           NaN           NaN   \n",
      "top              NaN           NaN           NaN           NaN           NaN   \n",
      "freq             NaN           NaN           NaN           NaN           NaN   \n",
      "mean       -0.003853      1.375426      3.298547      1.585344      0.171699   \n",
      "std         1.278136      1.854929      1.476351      0.688718      0.377131   \n",
      "min        -1.000000     -1.000000      1.000000      1.000000      0.000000   \n",
      "25%        -1.000000     -1.000000      2.000000      1.000000      0.000000   \n",
      "50%         0.000000      1.000000      4.000000      1.000000      0.000000   \n",
      "75%         0.000000      4.000000      5.000000      2.000000      0.000000   \n",
      "max         6.000000      4.000000      5.000000      3.000000      1.000000   \n",
      "\n",
      "            PERWT15F  \n",
      "count   15830.000000  \n",
      "unique           NaN  \n",
      "top              NaN  \n",
      "freq             NaN  \n",
      "mean     8930.337369  \n",
      "std      8521.260446  \n",
      "min         0.000000  \n",
      "25%      3428.548713  \n",
      "50%      6146.458935  \n",
      "75%     11749.810086  \n",
      "max     94264.071559  \n",
      "\n",
      "[11 rows x 43 columns]\n"
     ]
    }
   ],
   "source": [
    "# summary statistics for numerical and catgeorical features\n",
    "summary_stats = df_panel_19_reduced.describe(include='all')\n",
    "print(\"Summary Statistics:\\n\", summary_stats)"
   ]
  },
  {
   "cell_type": "code",
   "execution_count": 16,
   "id": "ymgIDbtWN-yh",
   "metadata": {
    "colab": {
     "base_uri": "https://localhost:8080/"
    },
    "id": "ymgIDbtWN-yh",
    "outputId": "7b8e1b81-53e3-4ed8-da11-892b11789304"
   },
   "outputs": [
    {
     "name": "stdout",
     "output_type": "stream",
     "text": [
      "Shape of df_panel_19_reduced:  (15830, 43)\n"
     ]
    }
   ],
   "source": [
    "# shape of the dataset\n",
    "print(\"Shape of df_panel_19_reduced: \", df_panel_19_reduced.shape)"
   ]
  },
  {
   "cell_type": "markdown",
   "id": "55329591-7a00-4b97-8422-29bb20c55966",
   "metadata": {
    "id": "55329591-7a00-4b97-8422-29bb20c55966"
   },
   "source": [
    "#### 2.3 Outlier Detection and Handling"
   ]
  },
  {
   "cell_type": "code",
   "execution_count": 17,
   "id": "LLvIF3EWVKWd",
   "metadata": {
    "colab": {
     "base_uri": "https://localhost:8080/"
    },
    "id": "LLvIF3EWVKWd",
    "outputId": "635a4982-d6b6-431b-dbe3-bd0abad6d809"
   },
   "outputs": [
    {
     "name": "stdout",
     "output_type": "stream",
     "text": [
      "Series([], dtype: int64)\n",
      "FTSTU       14316\n",
      "RTHLTH         18\n",
      "MNHLTH         18\n",
      "HIBPDX       4474\n",
      "CHDDX        4474\n",
      "ANGIDX       4474\n",
      "MIDX         4474\n",
      "OHRTDX       4474\n",
      "STRKDX       4474\n",
      "EMPHDX       4474\n",
      "CHBRON       4490\n",
      "CHOLDX       4474\n",
      "CANCERDX     4474\n",
      "DIABDX       4474\n",
      "JTPAIN       4490\n",
      "ARTHDX       4474\n",
      "ARTHTYPE    12893\n",
      "ADHDADDX    12022\n",
      "PREGNT      12568\n",
      "WLKLIM         18\n",
      "ACTLIM       1086\n",
      "SOCLIM         18\n",
      "COGLIM       4490\n",
      "DFHEAR42      357\n",
      "DFSEE42       357\n",
      "ADSMOK42     6235\n",
      "PCS42        6286\n",
      "MCS42        6280\n",
      "K6SUM42      6410\n",
      "PHQ242       6235\n",
      "EMPST        3976\n",
      "dtype: int64\n"
     ]
    }
   ],
   "source": [
    "#Handling Missing Values and Not Applicable Values\n",
    "\n",
    "#Missing Values\n",
    "missing_values = df_panel_19_reduced.isnull().sum()\n",
    "print(missing_values[missing_values > 0]) #There are no columns that have missing values\n",
    "\n",
    "# Not Applicable Values\n",
    "df_panel_19_numeric = df_panel_19_reduced.apply(pd.to_numeric, errors='coerce')\n",
    "\n",
    "# Now check for values less than or equal to 0\n",
    "check_na = df_panel_19_numeric < 0\n",
    "\n",
    "# Count how many such values exist in each column\n",
    "na_count = check_na.sum()\n",
    "\n",
    "# Display columns that have any negative values or zero\n",
    "# print(na_count[na_count > 0])\n",
    "\n",
    "df_panel_19_numeric[df_panel_19_numeric < 0] = -1\n",
    "\n",
    "# Display columns that have any negative values or zero\n",
    "print(na_count[na_count > 0])\n"
   ]
  },
  {
   "cell_type": "code",
   "execution_count": 18,
   "id": "GML-Zhkcp6za",
   "metadata": {
    "colab": {
     "base_uri": "https://localhost:8080/",
     "height": 444
    },
    "id": "GML-Zhkcp6za",
    "outputId": "c0c018c3-4ae9-44e4-a20c-50f258246b4b"
   },
   "outputs": [
    {
     "data": {
      "text/html": [
       "<div>\n",
       "<style scoped>\n",
       "    .dataframe tbody tr th:only-of-type {\n",
       "        vertical-align: middle;\n",
       "    }\n",
       "\n",
       "    .dataframe tbody tr th {\n",
       "        vertical-align: top;\n",
       "    }\n",
       "\n",
       "    .dataframe thead th {\n",
       "        text-align: right;\n",
       "    }\n",
       "</style>\n",
       "<table border=\"1\" class=\"dataframe\">\n",
       "  <thead>\n",
       "    <tr style=\"text-align: right;\">\n",
       "      <th></th>\n",
       "      <th>AGE</th>\n",
       "      <th>PCS42</th>\n",
       "      <th>MCS42</th>\n",
       "      <th>PHQ242</th>\n",
       "      <th>UTILIZATION</th>\n",
       "      <th>PERWT15F</th>\n",
       "      <th>REGION_1</th>\n",
       "      <th>REGION_2</th>\n",
       "      <th>REGION_3</th>\n",
       "      <th>REGION_4</th>\n",
       "      <th>...</th>\n",
       "      <th>EMPST_3</th>\n",
       "      <th>EMPST_4</th>\n",
       "      <th>POVCAT_1</th>\n",
       "      <th>POVCAT_2</th>\n",
       "      <th>POVCAT_3</th>\n",
       "      <th>POVCAT_4</th>\n",
       "      <th>POVCAT_5</th>\n",
       "      <th>INSCOV_1</th>\n",
       "      <th>INSCOV_2</th>\n",
       "      <th>INSCOV_3</th>\n",
       "    </tr>\n",
       "  </thead>\n",
       "  <tbody>\n",
       "    <tr>\n",
       "      <th>0</th>\n",
       "      <td>53</td>\n",
       "      <td>25.93</td>\n",
       "      <td>58.47</td>\n",
       "      <td>0</td>\n",
       "      <td>1</td>\n",
       "      <td>21854.981705</td>\n",
       "      <td>0</td>\n",
       "      <td>1</td>\n",
       "      <td>0</td>\n",
       "      <td>0</td>\n",
       "      <td>...</td>\n",
       "      <td>0</td>\n",
       "      <td>1</td>\n",
       "      <td>1</td>\n",
       "      <td>0</td>\n",
       "      <td>0</td>\n",
       "      <td>0</td>\n",
       "      <td>0</td>\n",
       "      <td>0</td>\n",
       "      <td>1</td>\n",
       "      <td>0</td>\n",
       "    </tr>\n",
       "    <tr>\n",
       "      <th>1</th>\n",
       "      <td>56</td>\n",
       "      <td>20.42</td>\n",
       "      <td>26.57</td>\n",
       "      <td>6</td>\n",
       "      <td>1</td>\n",
       "      <td>18169.604822</td>\n",
       "      <td>0</td>\n",
       "      <td>1</td>\n",
       "      <td>0</td>\n",
       "      <td>0</td>\n",
       "      <td>...</td>\n",
       "      <td>0</td>\n",
       "      <td>1</td>\n",
       "      <td>0</td>\n",
       "      <td>0</td>\n",
       "      <td>1</td>\n",
       "      <td>0</td>\n",
       "      <td>0</td>\n",
       "      <td>0</td>\n",
       "      <td>1</td>\n",
       "      <td>0</td>\n",
       "    </tr>\n",
       "    <tr>\n",
       "      <th>3</th>\n",
       "      <td>23</td>\n",
       "      <td>53.12</td>\n",
       "      <td>50.33</td>\n",
       "      <td>0</td>\n",
       "      <td>0</td>\n",
       "      <td>17191.832515</td>\n",
       "      <td>0</td>\n",
       "      <td>1</td>\n",
       "      <td>0</td>\n",
       "      <td>0</td>\n",
       "      <td>...</td>\n",
       "      <td>0</td>\n",
       "      <td>0</td>\n",
       "      <td>0</td>\n",
       "      <td>1</td>\n",
       "      <td>0</td>\n",
       "      <td>0</td>\n",
       "      <td>0</td>\n",
       "      <td>0</td>\n",
       "      <td>1</td>\n",
       "      <td>0</td>\n",
       "    </tr>\n",
       "    <tr>\n",
       "      <th>4</th>\n",
       "      <td>3</td>\n",
       "      <td>-1.00</td>\n",
       "      <td>-1.00</td>\n",
       "      <td>-1</td>\n",
       "      <td>0</td>\n",
       "      <td>20261.485463</td>\n",
       "      <td>0</td>\n",
       "      <td>1</td>\n",
       "      <td>0</td>\n",
       "      <td>0</td>\n",
       "      <td>...</td>\n",
       "      <td>0</td>\n",
       "      <td>0</td>\n",
       "      <td>0</td>\n",
       "      <td>1</td>\n",
       "      <td>0</td>\n",
       "      <td>0</td>\n",
       "      <td>0</td>\n",
       "      <td>0</td>\n",
       "      <td>1</td>\n",
       "      <td>0</td>\n",
       "    </tr>\n",
       "    <tr>\n",
       "      <th>5</th>\n",
       "      <td>27</td>\n",
       "      <td>-1.00</td>\n",
       "      <td>-1.00</td>\n",
       "      <td>-1</td>\n",
       "      <td>0</td>\n",
       "      <td>0.000000</td>\n",
       "      <td>0</td>\n",
       "      <td>0</td>\n",
       "      <td>1</td>\n",
       "      <td>0</td>\n",
       "      <td>...</td>\n",
       "      <td>0</td>\n",
       "      <td>0</td>\n",
       "      <td>0</td>\n",
       "      <td>0</td>\n",
       "      <td>1</td>\n",
       "      <td>0</td>\n",
       "      <td>0</td>\n",
       "      <td>1</td>\n",
       "      <td>0</td>\n",
       "      <td>0</td>\n",
       "    </tr>\n",
       "    <tr>\n",
       "      <th>...</th>\n",
       "      <td>...</td>\n",
       "      <td>...</td>\n",
       "      <td>...</td>\n",
       "      <td>...</td>\n",
       "      <td>...</td>\n",
       "      <td>...</td>\n",
       "      <td>...</td>\n",
       "      <td>...</td>\n",
       "      <td>...</td>\n",
       "      <td>...</td>\n",
       "      <td>...</td>\n",
       "      <td>...</td>\n",
       "      <td>...</td>\n",
       "      <td>...</td>\n",
       "      <td>...</td>\n",
       "      <td>...</td>\n",
       "      <td>...</td>\n",
       "      <td>...</td>\n",
       "      <td>...</td>\n",
       "      <td>...</td>\n",
       "      <td>...</td>\n",
       "    </tr>\n",
       "    <tr>\n",
       "      <th>16573</th>\n",
       "      <td>25</td>\n",
       "      <td>56.71</td>\n",
       "      <td>62.39</td>\n",
       "      <td>0</td>\n",
       "      <td>0</td>\n",
       "      <td>4111.315754</td>\n",
       "      <td>0</td>\n",
       "      <td>0</td>\n",
       "      <td>1</td>\n",
       "      <td>0</td>\n",
       "      <td>...</td>\n",
       "      <td>0</td>\n",
       "      <td>0</td>\n",
       "      <td>1</td>\n",
       "      <td>0</td>\n",
       "      <td>0</td>\n",
       "      <td>0</td>\n",
       "      <td>0</td>\n",
       "      <td>1</td>\n",
       "      <td>0</td>\n",
       "      <td>0</td>\n",
       "    </tr>\n",
       "    <tr>\n",
       "      <th>16574</th>\n",
       "      <td>25</td>\n",
       "      <td>56.71</td>\n",
       "      <td>62.39</td>\n",
       "      <td>0</td>\n",
       "      <td>0</td>\n",
       "      <td>5415.228173</td>\n",
       "      <td>0</td>\n",
       "      <td>0</td>\n",
       "      <td>1</td>\n",
       "      <td>0</td>\n",
       "      <td>...</td>\n",
       "      <td>0</td>\n",
       "      <td>1</td>\n",
       "      <td>1</td>\n",
       "      <td>0</td>\n",
       "      <td>0</td>\n",
       "      <td>0</td>\n",
       "      <td>0</td>\n",
       "      <td>1</td>\n",
       "      <td>0</td>\n",
       "      <td>0</td>\n",
       "    </tr>\n",
       "    <tr>\n",
       "      <th>16575</th>\n",
       "      <td>2</td>\n",
       "      <td>-1.00</td>\n",
       "      <td>-1.00</td>\n",
       "      <td>-1</td>\n",
       "      <td>0</td>\n",
       "      <td>3896.116219</td>\n",
       "      <td>0</td>\n",
       "      <td>0</td>\n",
       "      <td>1</td>\n",
       "      <td>0</td>\n",
       "      <td>...</td>\n",
       "      <td>0</td>\n",
       "      <td>0</td>\n",
       "      <td>1</td>\n",
       "      <td>0</td>\n",
       "      <td>0</td>\n",
       "      <td>0</td>\n",
       "      <td>0</td>\n",
       "      <td>0</td>\n",
       "      <td>1</td>\n",
       "      <td>0</td>\n",
       "    </tr>\n",
       "    <tr>\n",
       "      <th>16576</th>\n",
       "      <td>54</td>\n",
       "      <td>43.97</td>\n",
       "      <td>42.45</td>\n",
       "      <td>0</td>\n",
       "      <td>0</td>\n",
       "      <td>4883.851005</td>\n",
       "      <td>1</td>\n",
       "      <td>0</td>\n",
       "      <td>0</td>\n",
       "      <td>0</td>\n",
       "      <td>...</td>\n",
       "      <td>0</td>\n",
       "      <td>0</td>\n",
       "      <td>0</td>\n",
       "      <td>0</td>\n",
       "      <td>1</td>\n",
       "      <td>0</td>\n",
       "      <td>0</td>\n",
       "      <td>0</td>\n",
       "      <td>1</td>\n",
       "      <td>0</td>\n",
       "    </tr>\n",
       "    <tr>\n",
       "      <th>16577</th>\n",
       "      <td>73</td>\n",
       "      <td>42.68</td>\n",
       "      <td>43.46</td>\n",
       "      <td>0</td>\n",
       "      <td>0</td>\n",
       "      <td>6630.588948</td>\n",
       "      <td>1</td>\n",
       "      <td>0</td>\n",
       "      <td>0</td>\n",
       "      <td>0</td>\n",
       "      <td>...</td>\n",
       "      <td>0</td>\n",
       "      <td>1</td>\n",
       "      <td>0</td>\n",
       "      <td>0</td>\n",
       "      <td>1</td>\n",
       "      <td>0</td>\n",
       "      <td>0</td>\n",
       "      <td>0</td>\n",
       "      <td>1</td>\n",
       "      <td>0</td>\n",
       "    </tr>\n",
       "  </tbody>\n",
       "</table>\n",
       "<p>15830 rows × 157 columns</p>\n",
       "</div>"
      ],
      "text/plain": [
       "       AGE  PCS42  MCS42  PHQ242  UTILIZATION      PERWT15F  REGION_1  \\\n",
       "0       53  25.93  58.47       0            1  21854.981705         0   \n",
       "1       56  20.42  26.57       6            1  18169.604822         0   \n",
       "3       23  53.12  50.33       0            0  17191.832515         0   \n",
       "4        3  -1.00  -1.00      -1            0  20261.485463         0   \n",
       "5       27  -1.00  -1.00      -1            0      0.000000         0   \n",
       "...    ...    ...    ...     ...          ...           ...       ...   \n",
       "16573   25  56.71  62.39       0            0   4111.315754         0   \n",
       "16574   25  56.71  62.39       0            0   5415.228173         0   \n",
       "16575    2  -1.00  -1.00      -1            0   3896.116219         0   \n",
       "16576   54  43.97  42.45       0            0   4883.851005         1   \n",
       "16577   73  42.68  43.46       0            0   6630.588948         1   \n",
       "\n",
       "       REGION_2  REGION_3  REGION_4  ...  EMPST_3  EMPST_4  POVCAT_1  \\\n",
       "0             1         0         0  ...        0        1         1   \n",
       "1             1         0         0  ...        0        1         0   \n",
       "3             1         0         0  ...        0        0         0   \n",
       "4             1         0         0  ...        0        0         0   \n",
       "5             0         1         0  ...        0        0         0   \n",
       "...         ...       ...       ...  ...      ...      ...       ...   \n",
       "16573         0         1         0  ...        0        0         1   \n",
       "16574         0         1         0  ...        0        1         1   \n",
       "16575         0         1         0  ...        0        0         1   \n",
       "16576         0         0         0  ...        0        0         0   \n",
       "16577         0         0         0  ...        0        1         0   \n",
       "\n",
       "       POVCAT_2  POVCAT_3  POVCAT_4  POVCAT_5  INSCOV_1  INSCOV_2  INSCOV_3  \n",
       "0             0         0         0         0         0         1         0  \n",
       "1             0         1         0         0         0         1         0  \n",
       "3             1         0         0         0         0         1         0  \n",
       "4             1         0         0         0         0         1         0  \n",
       "5             0         1         0         0         1         0         0  \n",
       "...         ...       ...       ...       ...       ...       ...       ...  \n",
       "16573         0         0         0         0         1         0         0  \n",
       "16574         0         0         0         0         1         0         0  \n",
       "16575         0         0         0         0         0         1         0  \n",
       "16576         0         1         0         0         0         1         0  \n",
       "16577         0         1         0         0         0         1         0  \n",
       "\n",
       "[15830 rows x 157 columns]"
      ]
     },
     "execution_count": 18,
     "metadata": {},
     "output_type": "execute_result"
    }
   ],
   "source": [
    "# Applying One Hot Encoding and ignores columns that are numerical\n",
    "df_panel_19_onehot = pd.get_dummies(df_panel_19_numeric, dtype=int, columns=[col for col in df_panel_19_numeric.columns if not col in ['AGE', 'PCS42','MCS42', 'PHQ242', 'PERWT15F', 'UTILIZATION']])\n",
    "df_panel_19_onehot"
   ]
  },
  {
   "cell_type": "markdown",
   "id": "b9c4b75c-3f0b-4383-9607-758d52283321",
   "metadata": {
    "id": "b9c4b75c-3f0b-4383-9607-758d52283321"
   },
   "source": [
    "#### 2.4 Correlation Analysis"
   ]
  },
  {
   "cell_type": "code",
   "execution_count": 19,
   "id": "59cf08f2",
   "metadata": {
    "colab": {
     "base_uri": "https://localhost:8080/",
     "height": 996
    },
    "id": "59cf08f2",
    "outputId": "8ea3dc89-b5c2-4d62-8fab-0989ab6caf4e"
   },
   "outputs": [
    {
     "data": {
      "text/plain": [
       "<Figure size 3000x2500 with 0 Axes>"
      ]
     },
     "metadata": {},
     "output_type": "display_data"
    },
    {
     "data": {
      "image/png": "[encoded data removed]",
      "text/plain": [
       "<Figure size 1347.11x250 with 5 Axes>"
      ]
     },
     "metadata": {},
     "output_type": "display_data"
    }
   ],
   "source": [
    "# Preliminary data visualizations\n",
    "\n",
    "# Pairplot\n",
    "plt.figure(figsize=(30,25))\n",
    "sns.pairplot(df_panel_19_reduced,\n",
    "             y_vars=['UTILIZATION'],\n",
    "             x_vars=['AGE', 'PCS42','MCS42', 'PHQ242', 'PERWT15F'],\n",
    "             kind=\"hist\",\n",
    "             hue=\"UTILIZATION\",\n",
    "             palette=\"coolwarm\")\n",
    "\n",
    "plt.show()"
   ]
  },
  {
   "cell_type": "markdown",
   "id": "a66b12e7",
   "metadata": {},
   "source": [
    "Here we take a look at five numeric features -- AGE, PCS42, MCS42, PHQ242, PERWT15F -- and map their histograms with UTILIZATION. Darker hues indicate a higher concentration of values, where lighter hues indicate a lower concentration. Values 0 and 1, depicted as blue and orange, represent individuals who were marked as low and high utilization respectively. From these visualizations, some clear trends are visible. For instance, individuals with low utilization tend to be younger, clustering between 0-50, whereas individuals with high utilization tend to be older, clustering around 60. This intuitively makes sense, given that older people are generally more likely to need more medical and health attention, resulting in higher utilization. In contrast, not as much can be determined from the visualization for PHQ242, a feature that tracks mental wellbeing with higher values being worse. It appears that most individuals have a value of 0, indicating no symptoms of depression, or -1, indicating inapplicable for this metric."
   ]
  },
  {
   "cell_type": "code",
   "execution_count": 20,
   "id": "da61a099",
   "metadata": {},
   "outputs": [
    {
     "data": {
      "text/plain": [
       "UTILIZATION    1.000000\n",
       "WLKLIM_1       0.370146\n",
       "ARTHDX_1       0.362279\n",
       "ACTLIM_1       0.353689\n",
       "AGE            0.337893\n",
       "                 ...   \n",
       "ADSMOK42_-1   -0.207257\n",
       "ACTLIM_2      -0.217069\n",
       "SOCLIM_2      -0.275891\n",
       "ARTHTYPE_-1   -0.362279\n",
       "WLKLIM_2      -0.371547\n",
       "Name: UTILIZATION, Length: 157, dtype: float64"
      ]
     },
     "execution_count": 20,
     "metadata": {},
     "output_type": "execute_result"
    }
   ],
   "source": [
    "corr = df_panel_19_onehot.select_dtypes(include='number').corr()\n",
    "corr['UTILIZATION'].sort_values(ascending=False)\n"
   ]
  },
  {
   "cell_type": "code",
   "execution_count": 21,
   "id": "eb900216",
   "metadata": {},
   "outputs": [
    {
     "data": {
      "text/plain": [
       "UTILIZATION    1.000000\n",
       "WLKLIM_1       0.370146\n",
       "ARTHDX_1       0.362279\n",
       "ACTLIM_1       0.353689\n",
       "AGE            0.337893\n",
       "JTPAIN_1       0.326043\n",
       "ACTDTY_4       0.315706\n",
       "HIBPDX_1       0.285190\n",
       "CHOLDX_1       0.276956\n",
       "SOCLIM_1       0.274435\n",
       "EMPST_4        0.273303\n",
       "PHQ242         0.265856\n",
       "CANCERDX_1     0.258458\n",
       "ARTHTYPE_2     0.248862\n",
       "COGLIM_1       0.242918\n",
       "OHRTDX_1       0.236768\n",
       "DIABDX_1       0.215140\n",
       "CHDDX_1        0.213176\n",
       "ARTHTYPE_3     0.208478\n",
       "RTHLTH_4       0.199797\n",
       "ADSMOK42_2     0.184743\n",
       "MARRY_2        0.171158\n",
       "STRKDX_1       0.169424\n",
       "RTHLTH_5       0.169202\n",
       "ADHDADDX_-1    0.165711\n",
       "Name: UTILIZATION, dtype: float64"
      ]
     },
     "execution_count": 21,
     "metadata": {},
     "output_type": "execute_result"
    }
   ],
   "source": [
    "top_25 = corr['UTILIZATION'].sort_values(ascending=False).head(25)\n",
    "top_25"
   ]
  },
  {
   "cell_type": "code",
   "execution_count": 22,
   "id": "09caa2c3",
   "metadata": {},
   "outputs": [
    {
     "data": {
      "text/plain": [
       "WLKLIM_2      -0.371547\n",
       "ARTHTYPE_-1   -0.362279\n",
       "SOCLIM_2      -0.275891\n",
       "ACTLIM_2      -0.217069\n",
       "ADSMOK42_-1   -0.207257\n",
       "K6SUM42_-1    -0.194712\n",
       "CANCERDX_-1   -0.183844\n",
       "EMPHDX_-1     -0.183844\n",
       "MIDX_-1       -0.183844\n",
       "ANGIDX_-1     -0.183844\n",
       "CHOLDX_-1     -0.183844\n",
       "OHRTDX_-1     -0.183844\n",
       "DIABDX_-1     -0.183844\n",
       "CHDDX_-1      -0.183844\n",
       "ARTHDX_-1     -0.183844\n",
       "HIBPDX_-1     -0.183844\n",
       "STRKDX_-1     -0.183844\n",
       "RTHLTH_1      -0.181325\n",
       "JTPAIN_-1     -0.181322\n",
       "CHBRON_-1     -0.181322\n",
       "COGLIM_-1     -0.181322\n",
       "HONRDC_3      -0.179990\n",
       "ADHDADDX_2    -0.178414\n",
       "ACTDTY_3      -0.176390\n",
       "EMPST_-1      -0.176390\n",
       "Name: UTILIZATION, dtype: float64"
      ]
     },
     "execution_count": 22,
     "metadata": {},
     "output_type": "execute_result"
    }
   ],
   "source": [
    "bottom_25 = corr['UTILIZATION'].sort_values(ascending=True).head(25)\n",
    "bottom_25"
   ]
  },
  {
   "cell_type": "code",
   "execution_count": 23,
   "id": "zA4g08Ryt4zH",
   "metadata": {
    "colab": {
     "base_uri": "https://localhost:8080/"
    },
    "id": "zA4g08Ryt4zH",
    "outputId": "df37148b-f871-4f62-e711-7b4bb0d11997"
   },
   "outputs": [
    {
     "name": "stdout",
     "output_type": "stream",
     "text": [
      "           col1        col2      corr\n",
      "0       MARRY_6    ACTDTY_3  1.000000\n",
      "1     HIBPDX_-1   CHBRON_-1  0.997513\n",
      "2     CHBRON_-1   CHOLDX_-1  0.997513\n",
      "3   ADSMOK42_-1  K6SUM42_-1  0.977220\n",
      "4      HONRDC_3   HIBPDX_-1  0.961137\n",
      "5       MARRY_6    HONRDC_3  0.959997\n",
      "6      HONRDC_3    EMPST_-1  0.959997\n",
      "7      HONRDC_3   CHBRON_-1  0.958747\n",
      "8      EMPHDX_2    CHBRON_2  0.952128\n",
      "9      ANGIDX_2      MIDX_2  0.937940\n",
      "10     ANGIDX_2    EMPHDX_2  0.937930\n",
      "11     ANGIDX_2    CHBRON_2  0.937628\n",
      "12      CHDDX_2      MIDX_2  0.936434\n",
      "13        PCS42       MCS42  0.924988\n",
      "14      MARRY_6   HIBPDX_-1  0.922689\n",
      "15    HIBPDX_-1    EMPST_-1  0.922689\n",
      "16      CHDDX_2    ANGIDX_2  0.921900\n",
      "17       MIDX_2    CHBRON_2  0.921867\n",
      "18       MIDX_2    EMPHDX_2  0.921867\n",
      "19      MARRY_6   CHBRON_-1  0.920395\n",
      "         col1         col2      corr\n",
      "0    ARTHDX_1  ARTHTYPE_-1 -1.000000\n",
      "1    ASTHDX_1     ASTHDX_2 -1.000000\n",
      "2       SEX_1        SEX_2 -1.000000\n",
      "3    WLKLIM_1     WLKLIM_2 -0.993506\n",
      "4    SOCLIM_1     SOCLIM_2 -0.986798\n",
      "5   CHBRON_-1     CHBRON_2 -0.969779\n",
      "6    CHBRON_2    JTPAIN_-1 -0.969779\n",
      "7   HIBPDX_-1     EMPHDX_2 -0.967367\n",
      "8    EMPHDX_2    CHOLDX_-1 -0.967367\n",
      "9   HIBPDX_-1     CHBRON_2 -0.967367\n",
      "10   EMPHDX_2    CHBRON_-1 -0.965175\n",
      "11  PREGNT_-1     PREGNT_2 -0.965131\n",
      "12  HIBPDX_-1     ANGIDX_2 -0.960813\n",
      "13   ANGIDX_2    CHBRON_-1 -0.959230\n",
      "14      MCS42  ADSMOK42_-1 -0.953863\n",
      "15  HIBPDX_-1       MIDX_2 -0.943439\n",
      "16      PCS42  ADSMOK42_-1 -0.943436\n",
      "17     MIDX_2    CHBRON_-1 -0.942145\n",
      "18      MCS42   K6SUM42_-1 -0.938409\n",
      "19  HIBPDX_-1     STRKDX_2 -0.934271\n"
     ]
    }
   ],
   "source": [
    "corr_series = corr.unstack()\n",
    "corr_series = corr_series[corr_series.index.get_level_values(0) != corr_series.index.get_level_values(1)]\n",
    "corr_series = corr_series.drop_duplicates()\n",
    "\n",
    "top_10_corr = corr_series.nlargest(20)\n",
    "bottom_10_corr = corr_series.nsmallest(20)\n",
    "\n",
    "top_10_df = pd.DataFrame({\n",
    "    'col1': top_10_corr.index.get_level_values(0),\n",
    "    'col2': top_10_corr.index.get_level_values(1),\n",
    "    'corr': top_10_corr.values\n",
    "})\n",
    "\n",
    "bottom_10_df = pd.DataFrame({\n",
    "    'col1': bottom_10_corr.index.get_level_values(0),\n",
    "    'col2': bottom_10_corr.index.get_level_values(1),\n",
    "    'corr': bottom_10_corr.values\n",
    "})\n",
    "\n",
    "print(top_10_df)\n",
    "\n",
    "print(bottom_10_df)"
   ]
  },
  {
   "cell_type": "markdown",
   "id": "0e4cb401-c3fa-4916-b71b-5e72c03227c7",
   "metadata": {
    "id": "0e4cb401-c3fa-4916-b71b-5e72c03227c7"
   },
   "source": [
    "#### 2.5 Other analysis"
   ]
  },
  {
   "cell_type": "markdown",
   "id": "929f4c20",
   "metadata": {},
   "source": [
    "### Insurance Coverage and Insurance Utilization\n",
    "We wanted to see the breakdown distribution of the insurance coverage levels and utilization. The reason for this is that different insurance coverage might influence the amount of utilization a person would have. After analyzing the heatmap, it is clear that there is more data with low insurance utilization overall. Those with high utilization and no health insurance are disproportionately lower compared to other sections. "
   ]
  },
  {
   "cell_type": "code",
   "execution_count": 24,
   "id": "59f98e32",
   "metadata": {},
   "outputs": [
    {
     "data": {
      "image/png": "[encoded data removed]",
      "text/plain": [
       "<Figure size 1200x600 with 2 Axes>"
      ]
     },
     "metadata": {},
     "output_type": "display_data"
    }
   ],
   "source": [
    "#Heat Map for Insurance Coverage and Insurance Utilization\n",
    "heatmap_data = df_panel_19_reduced.pivot_table(index='INSCOV', columns='UTILIZATION', aggfunc='size', fill_value=0)\n",
    "plt.figure(figsize=(12, 6))\n",
    "sns.heatmap(heatmap_data, annot=True, fmt='d', cmap='coolwarm')\n",
    "plt.title('Heatmap of Insurance Coverage vs. Utilization')\n",
    "plt.xlabel('Insurance Utilization (0 = Low Utilization, 1 = High Utilization)')\n",
    "plt.ylabel('Insurance Coverage Level (1 = Public, 2 = Private, 3 = None)')\n",
    "plt.show()"
   ]
  },
  {
   "cell_type": "markdown",
   "id": "ba80d41c",
   "metadata": {},
   "source": [
    "### Box Plot of Age by Utilization\n",
    "We wanted to see the breakdown of Utilization by age within the dataset. The reason for this is that it is expected for the utilization to increase as age increase, so we wanted to confirm that this trend is seen in this dataset. As expected we see that the average age for low utilization is around 30, while the average age for high utilization is late 50's."
   ]
  },
  {
   "cell_type": "code",
   "execution_count": 25,
   "id": "B18ySN7stiGi",
   "metadata": {
    "colab": {
     "base_uri": "https://localhost:8080/",
     "height": 564
    },
    "id": "B18ySN7stiGi",
    "outputId": "3371f4a2-75fa-4eaf-9d7e-5541628c39a6"
   },
   "outputs": [
    {
     "name": "stderr",
     "output_type": "stream",
     "text": [
      "/var/folders/fy/20h6tjtj0lb6vgm0w4qt4m2c0000gn/T/ipykernel_84829/2064754873.py:2: FutureWarning: \n",
      "\n",
      "Passing `palette` without assigning `hue` is deprecated and will be removed in v0.14.0. Assign the `x` variable to `hue` and set `legend=False` for the same effect.\n",
      "\n",
      "  sns.boxplot(x='UTILIZATION', y='AGE', data=df_panel_19_reduced, palette='coolwarm')\n"
     ]
    },
    {
     "data": {
      "image/png": "[encoded data removed]",
      "text/plain": [
       "<Figure size 1000x600 with 1 Axes>"
      ]
     },
     "metadata": {},
     "output_type": "display_data"
    }
   ],
   "source": [
    "plt.figure(figsize=(10, 6))\n",
    "sns.boxplot(x='UTILIZATION', y='AGE', data=df_panel_19_reduced, palette='coolwarm')\n",
    "plt.title('Box Plot of Age by Utilization')\n",
    "plt.xlabel('Utilization (0 = Low Utilization, 1 = High Utilization)')\n",
    "plt.ylabel('Age')\n",
    "plt.show()"
   ]
  },
  {
   "cell_type": "markdown",
   "id": "4a82013e",
   "metadata": {},
   "source": [
    "### Utilization by Census Region\n",
    "This chart shows the count of hospital utilization cases by census region, divided into low and high utilization levels. The South region has the highest total count, with a larger portion of high utilization cases compared to other regions."
   ]
  },
  {
   "cell_type": "code",
   "execution_count": 26,
   "id": "526da928",
   "metadata": {},
   "outputs": [
    {
     "data": {
      "image/png": "[encoded data removed]",
      "text/plain": [
       "<Figure size 1000x600 with 1 Axes>"
      ]
     },
     "metadata": {},
     "output_type": "display_data"
    }
   ],
   "source": [
    "counts = df_panel_19_reduced.groupby(['REGION', 'UTILIZATION']).size().unstack(fill_value=0)\n",
    "\n",
    "plot = counts.plot(kind='bar', stacked=True, color=['salmon', 'skyblue'], figsize=(10, 6))\n",
    "plt.title('Utilization by Census Region')\n",
    "plt.xlabel('Census Region')\n",
    "plt.ylabel('Count of Utilization Cases')\n",
    "plt.legend(title='Utilization Level', labels=['Low Utilization', 'High Utilization'])\n",
    "plt.xticks(rotation=0)\n",
    "plt.show()"
   ]
  },
  {
   "cell_type": "markdown",
   "id": "9a229656",
   "metadata": {},
   "source": [
    "### Pie Charts of Utilization Distribution by Income Level:\n",
    "Poor/Negative: 84.8% of cases are low utilization, and 15.2% are high utilization.\n",
    "Near Poor: 83.3% low utilization, 16.7% high utilization.\n",
    "Low Income: 83.7% low utilization, 16.3% high utilization.\n",
    "Middle Income: 84.9% low utilization, 15.1% high utilization.\n",
    "High Income: Shows a lower percentage of low utilization (78.2%) and a higher proportion of high utilization (21.8%) than other income groups.\n",
    "These pie charts provide a comparison of utilization levels across different income groups, highlighting a trend of increased high utilization in higher income levels. \n"
   ]
  },
  {
   "cell_type": "code",
   "execution_count": 27,
   "id": "XTNmunR5_Be8",
   "metadata": {
    "colab": {
     "base_uri": "https://localhost:8080/",
     "height": 582
    },
    "id": "XTNmunR5_Be8",
    "outputId": "57974ea2-7c53-42af-eab0-73dc77b54c05"
   },
   "outputs": [
    {
     "data": {
      "image/png": "[encoded data removed]",
      "text/plain": [
       "<Figure size 400x400 with 1 Axes>"
      ]
     },
     "metadata": {},
     "output_type": "display_data"
    },
    {
     "data": {
      "image/png": "[encoded data removed]",
      "text/plain": [
       "<Figure size 400x400 with 1 Axes>"
      ]
     },
     "metadata": {},
     "output_type": "display_data"
    },
    {
     "data": {
      "image/png": "[encoded data removed]",
      "text/plain": [
       "<Figure size 400x400 with 1 Axes>"
      ]
     },
     "metadata": {},
     "output_type": "display_data"
    },
    {
     "data": {
      "image/png": "[encoded data removed]",
      "text/plain": [
       "<Figure size 400x400 with 1 Axes>"
      ]
     },
     "metadata": {},
     "output_type": "display_data"
    },
    {
     "data": {
      "image/png": "[encoded data removed]",
      "text/plain": [
       "<Figure size 400x400 with 1 Axes>"
      ]
     },
     "metadata": {},
     "output_type": "display_data"
    }
   ],
   "source": [
    "counts = df_panel_19_reduced.groupby(['POVCAT', 'UTILIZATION']).size().unstack(fill_value=0)\n",
    "\n",
    "poverty_map = {\n",
    "    1: 'POOR/NEGATIVE',\n",
    "    2: 'NEAR POOR',\n",
    "    3: 'LOW INCOME',\n",
    "    4: 'MIDDLE INCOME',\n",
    "    5: 'HIGH INCOME'\n",
    "}\n",
    "\n",
    "for poverty in counts.index:\n",
    "    plt.figure(figsize=(4, 4))\n",
    "    plt.pie(counts.loc[poverty], \n",
    "            labels=['Low Utilization (0)', 'High Utilization (1)'], \n",
    "            colors=['salmon', 'skyblue'])\n",
    "    plt.title(f'Hospital Utilization Distribution for {poverty_map[poverty]}')\n",
    "    plt.show()"
   ]
  },
  {
   "cell_type": "code",
   "execution_count": 28,
   "id": "135a7f40",
   "metadata": {},
   "outputs": [
    {
     "data": {
      "image/png": "[encoded data removed]",
      "text/plain": [
       "<Figure size 640x480 with 1 Axes>"
      ]
     },
     "metadata": {},
     "output_type": "display_data"
    }
   ],
   "source": [
    "grouped_data = df_panel_19_reduced.groupby(['SEX', 'UTILIZATION']).size().unstack().fillna(0)\n",
    "\n",
    "fig, ax = plt.subplots()\n",
    "grouped_data.plot(kind='bar', stacked=True, ax=ax, color=['salmon', 'skyblue'])\n",
    "ax.set_title(\"Utilization by Sex\")\n",
    "ax.set_xlabel(\"Sex (1=Male, 2=Female)\")\n",
    "ax.set_ylabel(\"Count\")\n",
    "ax.legend([\"Low Utilization\", \"High Utilization\"])\n",
    "plt.xticks(rotation=0)\n",
    "plt.show()"
   ]
  },
  {
   "cell_type": "code",
   "execution_count": 29,
   "id": "cd79cf28",
   "metadata": {},
   "outputs": [
    {
     "name": "stderr",
     "output_type": "stream",
     "text": [
      "/var/folders/fy/20h6tjtj0lb6vgm0w4qt4m2c0000gn/T/ipykernel_84829/599489003.py:1: SettingWithCopyWarning: \n",
      "A value is trying to be set on a copy of a slice from a DataFrame.\n",
      "Try using .loc[row_indexer,col_indexer] = value instead\n",
      "\n",
      "See the caveats in the documentation: https://pandas.pydata.org/pandas-docs/stable/user_guide/indexing.html#returning-a-view-versus-a-copy\n",
      "  df_panel_19_reduced['HEALTH_MEAN'] = (df_panel_19_reduced['MNHLTH'] + df_panel_19_reduced['RTHLTH']) / 2\n"
     ]
    },
    {
     "data": {
      "image/png": "[encoded data removed]",
      "text/plain": [
       "<Figure size 640x480 with 1 Axes>"
      ]
     },
     "metadata": {},
     "output_type": "display_data"
    }
   ],
   "source": [
    "df_panel_19_reduced['HEALTH_MEAN'] = (df_panel_19_reduced['MNHLTH'] + df_panel_19_reduced['RTHLTH']) / 2\n",
    "\n",
    "grouped_health_utilization = df_panel_19_reduced.groupby(['HEALTH_MEAN', 'UTILIZATION']).size().unstack().fillna(0)\n",
    "\n",
    "fig, ax = plt.subplots()\n",
    "grouped_health_utilization.plot(kind='bar', stacked=True, ax=ax, color=['salmon', 'skyblue'])\n",
    "ax.set_title(\"Mean Health Status by Utilization\")\n",
    "ax.set_xlabel(\"Mean Health Status (1 = Best, 5 = Worst)\")\n",
    "ax.set_ylabel(\"Count\")\n",
    "ax.legend([\"Low Utilization\", \"High Utilization\"])\n",
    "plt.xticks(rotation=0)\n",
    "plt.show()"
   ]
  },
  {
   "cell_type": "markdown",
   "id": "a37cb445-33ef-4b4e-8079-e7d46e6fbb72",
   "metadata": {
    "id": "a37cb445-33ef-4b4e-8079-e7d46e6fbb72"
   },
   "source": [
    "-----\n",
    "End of Exploratory Data Analysis"
   ]
  },
  {
   "cell_type": "markdown",
   "id": "feb5e270-5781-4e88-a180-4de7660a1c92",
   "metadata": {
    "id": "feb5e270-5781-4e88-a180-4de7660a1c92"
   },
   "source": [
    "-----\n",
    "# **Start of Replication Part 02 -  Model Development, and Fairness Evaluation**\n",
    "\n",
    "### There are **two** components to `Replication Project Part #02`\n",
    "1. Training models without de-biasing, using IBM's tutorial\n",
    "2. Training models without de-biasing, using your own model development techniques including (1) Feature Selection, (2) Encoding, (3) Binning Features, and other items\n",
    "\n",
    "#### We will now return to IBM AIF360's [Medical Expenditure Tutorial](https://nbviewer.org/github/IBM/AIF360/blob/master/examples/tutorial_medical_expenditure.ipynb)\n",
    "_*Note that it is primarily Scikit-learn based_\n",
    "\n",
    "* A reminder, you will need to fork [AIF360's repository](https://github.com/Trusted-AI/AIF360) into your own GitHub and access the notebook locally or via your method of choice\n",
    "* AIF360's Repository can be found under: `AIF360`/`Examples`/tutorial_medical_expenditure.ipynb\n",
    "* Ensure you have your `aif360` environment turned and activated using a miniconda prompt\n",
    "* Use Jupyter Labs\n",
    "* Refer to [Week 03](https://nanrahman.github.io/capstone-responsible-ai/weeks/03-Replication-Part-00/) content on the course Website to access the `Quickstart Guide`\n"
   ]
  },
  {
   "cell_type": "markdown",
   "id": "da83c738",
   "metadata": {
    "id": "da83c738"
   },
   "source": [
    "### [3.](#Table-of-Contents) Model Development without Debiasing"
   ]
  },
  {
   "cell_type": "markdown",
   "id": "yoBhz0w_V7jP",
   "metadata": {
    "id": "yoBhz0w_V7jP"
   },
   "source": [
    "First, load all necessary packages"
   ]
  },
  {
   "cell_type": "code",
   "execution_count": 30,
   "id": "QMV7k9RuWkSd",
   "metadata": {
    "id": "QMV7k9RuWkSd"
   },
   "outputs": [],
   "source": [
    "import sys\n",
    "sys.path.insert(0, '../')\n",
    "\n",
    "%matplotlib inline\n",
    "import matplotlib.pyplot as plt\n",
    "import numpy as np\n",
    "from IPython.display import Markdown, display\n",
    "\n",
    "# Datasets\n",
    "from aif360.datasets import MEPSDataset19\n",
    "from aif360.datasets import MEPSDataset20\n",
    "from aif360.datasets import MEPSDataset21\n",
    "\n",
    "# Fairness metrics\n",
    "from aif360.metrics import BinaryLabelDatasetMetric\n",
    "from aif360.metrics import ClassificationMetric\n",
    "\n",
    "# Explainers\n",
    "from aif360.explainers import MetricTextExplainer\n",
    "\n",
    "# Scalers\n",
    "from sklearn.preprocessing import StandardScaler\n",
    "\n",
    "# Classifiers\n",
    "from sklearn.ensemble import RandomForestClassifier\n",
    "from sklearn.linear_model import LogisticRegression\n",
    "from sklearn.pipeline import make_pipeline\n",
    "\n",
    "# Bias mitigation techniques\n",
    "from aif360.algorithms.preprocessing import Reweighing\n",
    "from aif360.algorithms.inprocessing import PrejudiceRemover\n",
    "\n",
    "# LIME\n",
    "# from aif360.datasets.lime_encoder import LimeEncoder\n",
    "# import lime\n",
    "# from lime.lime_tabular import LimeTabularExplainer\n",
    "\n",
    "np.random.seed(1)"
   ]
  },
  {
   "cell_type": "markdown",
   "id": "ZrYEE_TEWn-C",
   "metadata": {
    "id": "ZrYEE_TEWn-C"
   },
   "source": [
    "### 3.1. Load data & create splits for learning/validating/testing model"
   ]
  },
  {
   "cell_type": "markdown",
   "id": "cbf05e48",
   "metadata": {},
   "source": [
    "Get the dataset and split into train (50%), validate (30%), and test (20%)"
   ]
  },
  {
   "cell_type": "code",
   "execution_count": 31,
   "id": "ZiZXKk5ZWlbO",
   "metadata": {
    "colab": {
     "base_uri": "https://localhost:8080/",
     "height": 1000
    },
    "id": "ZiZXKk5ZWlbO",
    "outputId": "075da061-7ff5-422a-dbfd-2d0a40462449"
   },
   "outputs": [],
   "source": [
    "(dataset_orig_panel19_train,\n",
    " dataset_orig_panel19_val,\n",
    " dataset_orig_panel19_test) = MEPSDataset19().split([0.5, 0.8], shuffle=True)\n",
    "\n",
    "sens_ind = 0\n",
    "sens_attr = dataset_orig_panel19_train.protected_attribute_names[sens_ind]\n",
    "\n",
    "unprivileged_groups = [{sens_attr: v} for v in\n",
    "                       dataset_orig_panel19_train.unprivileged_protected_attributes[sens_ind]]\n",
    "privileged_groups = [{sens_attr: v} for v in\n",
    "                     dataset_orig_panel19_train.privileged_protected_attributes[sens_ind]]"
   ]
  },
  {
   "cell_type": "markdown",
   "id": "71570ae4",
   "metadata": {},
   "source": [
    "This function will be used throughout the notebook to print out some labels, names, etc."
   ]
  },
  {
   "cell_type": "code",
   "execution_count": 32,
   "id": "69960e67",
   "metadata": {},
   "outputs": [],
   "source": [
    "def describe(train=None, val=None, test=None):\n",
    "    if train is not None:\n",
    "        display(Markdown(\"#### Training Dataset shape\"))\n",
    "        print(train.features.shape)\n",
    "    if val is not None:\n",
    "        display(Markdown(\"#### Validation Dataset shape\"))\n",
    "        print(val.features.shape)\n",
    "    display(Markdown(\"#### Test Dataset shape\"))\n",
    "    print(test.features.shape)\n",
    "    display(Markdown(\"#### Favorable and unfavorable labels\"))\n",
    "    print(test.favorable_label, test.unfavorable_label)\n",
    "    display(Markdown(\"#### Protected attribute names\"))\n",
    "    print(test.protected_attribute_names)\n",
    "    display(Markdown(\"#### Privileged and unprivileged protected attribute values\"))\n",
    "    print(test.privileged_protected_attributes, \n",
    "          test.unprivileged_protected_attributes)\n",
    "    display(Markdown(\"#### Dataset feature names\"))\n",
    "    print(test.feature_names)"
   ]
  },
  {
   "cell_type": "markdown",
   "id": "a446e67f",
   "metadata": {},
   "source": [
    "Show 2015 dataset details"
   ]
  },
  {
   "cell_type": "code",
   "execution_count": 33,
   "id": "f2d08c68",
   "metadata": {},
   "outputs": [
    {
     "data": {
      "text/markdown": [
       "#### Training Dataset shape"
      ],
      "text/plain": [
       "<IPython.core.display.Markdown object>"
      ]
     },
     "metadata": {},
     "output_type": "display_data"
    },
    {
     "name": "stdout",
     "output_type": "stream",
     "text": [
      "(7915, 138)\n"
     ]
    },
    {
     "data": {
      "text/markdown": [
       "#### Validation Dataset shape"
      ],
      "text/plain": [
       "<IPython.core.display.Markdown object>"
      ]
     },
     "metadata": {},
     "output_type": "display_data"
    },
    {
     "name": "stdout",
     "output_type": "stream",
     "text": [
      "(4749, 138)\n"
     ]
    },
    {
     "data": {
      "text/markdown": [
       "#### Test Dataset shape"
      ],
      "text/plain": [
       "<IPython.core.display.Markdown object>"
      ]
     },
     "metadata": {},
     "output_type": "display_data"
    },
    {
     "name": "stdout",
     "output_type": "stream",
     "text": [
      "(3166, 138)\n"
     ]
    },
    {
     "data": {
      "text/markdown": [
       "#### Favorable and unfavorable labels"
      ],
      "text/plain": [
       "<IPython.core.display.Markdown object>"
      ]
     },
     "metadata": {},
     "output_type": "display_data"
    },
    {
     "name": "stdout",
     "output_type": "stream",
     "text": [
      "1.0 0.0\n"
     ]
    },
    {
     "data": {
      "text/markdown": [
       "#### Protected attribute names"
      ],
      "text/plain": [
       "<IPython.core.display.Markdown object>"
      ]
     },
     "metadata": {},
     "output_type": "display_data"
    },
    {
     "name": "stdout",
     "output_type": "stream",
     "text": [
      "['RACE']\n"
     ]
    },
    {
     "data": {
      "text/markdown": [
       "#### Privileged and unprivileged protected attribute values"
      ],
      "text/plain": [
       "<IPython.core.display.Markdown object>"
      ]
     },
     "metadata": {},
     "output_type": "display_data"
    },
    {
     "name": "stdout",
     "output_type": "stream",
     "text": [
      "[array([1.])] [array([0.])]\n"
     ]
    },
    {
     "data": {
      "text/markdown": [
       "#### Dataset feature names"
      ],
      "text/plain": [
       "<IPython.core.display.Markdown object>"
      ]
     },
     "metadata": {},
     "output_type": "display_data"
    },
    {
     "name": "stdout",
     "output_type": "stream",
     "text": [
      "['AGE', 'RACE', 'PCS42', 'MCS42', 'K6SUM42', 'REGION=1', 'REGION=2', 'REGION=3', 'REGION=4', 'SEX=1', 'SEX=2', 'MARRY=1', 'MARRY=2', 'MARRY=3', 'MARRY=4', 'MARRY=5', 'MARRY=6', 'MARRY=7', 'MARRY=8', 'MARRY=9', 'MARRY=10', 'FTSTU=-1', 'FTSTU=1', 'FTSTU=2', 'FTSTU=3', 'ACTDTY=1', 'ACTDTY=2', 'ACTDTY=3', 'ACTDTY=4', 'HONRDC=1', 'HONRDC=2', 'HONRDC=3', 'HONRDC=4', 'RTHLTH=-1', 'RTHLTH=1', 'RTHLTH=2', 'RTHLTH=3', 'RTHLTH=4', 'RTHLTH=5', 'MNHLTH=-1', 'MNHLTH=1', 'MNHLTH=2', 'MNHLTH=3', 'MNHLTH=4', 'MNHLTH=5', 'HIBPDX=-1', 'HIBPDX=1', 'HIBPDX=2', 'CHDDX=-1', 'CHDDX=1', 'CHDDX=2', 'ANGIDX=-1', 'ANGIDX=1', 'ANGIDX=2', 'MIDX=-1', 'MIDX=1', 'MIDX=2', 'OHRTDX=-1', 'OHRTDX=1', 'OHRTDX=2', 'STRKDX=-1', 'STRKDX=1', 'STRKDX=2', 'EMPHDX=-1', 'EMPHDX=1', 'EMPHDX=2', 'CHBRON=-1', 'CHBRON=1', 'CHBRON=2', 'CHOLDX=-1', 'CHOLDX=1', 'CHOLDX=2', 'CANCERDX=-1', 'CANCERDX=1', 'CANCERDX=2', 'DIABDX=-1', 'DIABDX=1', 'DIABDX=2', 'JTPAIN=-1', 'JTPAIN=1', 'JTPAIN=2', 'ARTHDX=-1', 'ARTHDX=1', 'ARTHDX=2', 'ARTHTYPE=-1', 'ARTHTYPE=1', 'ARTHTYPE=2', 'ARTHTYPE=3', 'ASTHDX=1', 'ASTHDX=2', 'ADHDADDX=-1', 'ADHDADDX=1', 'ADHDADDX=2', 'PREGNT=-1', 'PREGNT=1', 'PREGNT=2', 'WLKLIM=-1', 'WLKLIM=1', 'WLKLIM=2', 'ACTLIM=-1', 'ACTLIM=1', 'ACTLIM=2', 'SOCLIM=-1', 'SOCLIM=1', 'SOCLIM=2', 'COGLIM=-1', 'COGLIM=1', 'COGLIM=2', 'DFHEAR42=-1', 'DFHEAR42=1', 'DFHEAR42=2', 'DFSEE42=-1', 'DFSEE42=1', 'DFSEE42=2', 'ADSMOK42=-1', 'ADSMOK42=1', 'ADSMOK42=2', 'PHQ242=-1', 'PHQ242=0', 'PHQ242=1', 'PHQ242=2', 'PHQ242=3', 'PHQ242=4', 'PHQ242=5', 'PHQ242=6', 'EMPST=-1', 'EMPST=1', 'EMPST=2', 'EMPST=3', 'EMPST=4', 'POVCAT=1', 'POVCAT=2', 'POVCAT=3', 'POVCAT=4', 'POVCAT=5', 'INSCOV=1', 'INSCOV=2', 'INSCOV=3']\n"
     ]
    }
   ],
   "source": [
    "describe(dataset_orig_panel19_train, dataset_orig_panel19_val, dataset_orig_panel19_test)"
   ]
  },
  {
   "cell_type": "markdown",
   "id": "d0b52141",
   "metadata": {},
   "source": [
    "Metrics for original data"
   ]
  },
  {
   "cell_type": "code",
   "execution_count": 34,
   "id": "e48fbfd6",
   "metadata": {},
   "outputs": [
    {
     "name": "stdout",
     "output_type": "stream",
     "text": [
      "Disparate impact (probability of favorable outcome for unprivileged instances / probability of favorable outcome for privileged instances): 0.482305229962759\n"
     ]
    }
   ],
   "source": [
    "metric_orig_panel19_train = BinaryLabelDatasetMetric(\n",
    "        dataset_orig_panel19_train,\n",
    "        unprivileged_groups=unprivileged_groups,\n",
    "        privileged_groups=privileged_groups)\n",
    "explainer_orig_panel19_train = MetricTextExplainer(metric_orig_panel19_train)\n",
    "\n",
    "print(explainer_orig_panel19_train.disparate_impact())"
   ]
  },
  {
   "cell_type": "markdown",
   "id": "958b7a24",
   "metadata": {},
   "source": [
    "#### 3.2. Learning a Logistic Regression (LR) classifier on original data"
   ]
  },
  {
   "cell_type": "markdown",
   "id": "d6e90331",
   "metadata": {},
   "source": [
    "##### 3.2.1. Training LR model on original data"
   ]
  },
  {
   "cell_type": "code",
   "execution_count": 35,
   "id": "eb899b00",
   "metadata": {},
   "outputs": [],
   "source": [
    "dataset = dataset_orig_panel19_train\n",
    "model = make_pipeline(StandardScaler(),\n",
    "                      LogisticRegression(solver='liblinear', random_state=1))\n",
    "fit_params = {'logisticregression__sample_weight': dataset.instance_weights}\n",
    "\n",
    "lr_orig_panel19 = model.fit(dataset.features, dataset.labels.ravel(), **fit_params)"
   ]
  },
  {
   "cell_type": "markdown",
   "id": "37ce9f79",
   "metadata": {},
   "source": [
    "##### 3.2.2. Validating LR model on original data"
   ]
  },
  {
   "cell_type": "markdown",
   "id": "fe5ab010",
   "metadata": {},
   "source": [
    "This function will be used throughout the tutorial to find best threshold using a validation set"
   ]
  },
  {
   "cell_type": "code",
   "execution_count": 36,
   "id": "25085f43",
   "metadata": {},
   "outputs": [],
   "source": [
    "from collections import defaultdict\n",
    "\n",
    "def test(dataset, model, thresh_arr):\n",
    "    try:\n",
    "        # sklearn classifier\n",
    "        y_val_pred_prob = model.predict_proba(dataset.features)\n",
    "        pos_ind = np.where(model.classes_ == dataset.favorable_label)[0][0]\n",
    "    except AttributeError:\n",
    "        # aif360 inprocessing algorithm\n",
    "        y_val_pred_prob = model.predict(dataset).scores\n",
    "        pos_ind = 0\n",
    "    \n",
    "    metric_arrs = defaultdict(list)\n",
    "    for thresh in thresh_arr:\n",
    "        y_val_pred = (y_val_pred_prob[:, pos_ind] > thresh).astype(np.float64)\n",
    "\n",
    "        dataset_pred = dataset.copy()\n",
    "        dataset_pred.labels = y_val_pred\n",
    "        metric = ClassificationMetric(\n",
    "                dataset, dataset_pred,\n",
    "                unprivileged_groups=unprivileged_groups,\n",
    "                privileged_groups=privileged_groups)\n",
    "\n",
    "        metric_arrs['bal_acc'].append((metric.true_positive_rate()\n",
    "                                     + metric.true_negative_rate()) / 2)\n",
    "        metric_arrs['avg_odds_diff'].append(metric.average_odds_difference())\n",
    "        metric_arrs['disp_imp'].append(metric.disparate_impact())\n",
    "        metric_arrs['stat_par_diff'].append(metric.statistical_parity_difference())\n",
    "        metric_arrs['eq_opp_diff'].append(metric.equal_opportunity_difference())\n",
    "        metric_arrs['theil_ind'].append(metric.theil_index())\n",
    "    \n",
    "    return metric_arrs"
   ]
  },
  {
   "cell_type": "code",
   "execution_count": 37,
   "id": "fcf85f8f",
   "metadata": {},
   "outputs": [],
   "source": [
    "thresh_arr = np.linspace(0.01, 0.5, 50)\n",
    "val_metrics = test(dataset=dataset_orig_panel19_val,\n",
    "                   model=lr_orig_panel19,\n",
    "                   thresh_arr=thresh_arr)\n",
    "lr_orig_best_ind = np.argmax(val_metrics['bal_acc'])"
   ]
  },
  {
   "cell_type": "markdown",
   "id": "89be987b",
   "metadata": {},
   "source": [
    "Plot metrics with twin x-axes"
   ]
  },
  {
   "cell_type": "code",
   "execution_count": 38,
   "id": "ae8d29c3",
   "metadata": {},
   "outputs": [],
   "source": [
    "def plot(x, x_name, y_left, y_left_name, y_right, y_right_name):\n",
    "    fig, ax1 = plt.subplots(figsize=(10,7))\n",
    "    ax1.plot(x, y_left)\n",
    "    ax1.set_xlabel(x_name, fontsize=16, fontweight='bold')\n",
    "    ax1.set_ylabel(y_left_name, color='b', fontsize=16, fontweight='bold')\n",
    "    ax1.xaxis.set_tick_params(labelsize=14)\n",
    "    ax1.yaxis.set_tick_params(labelsize=14)\n",
    "    ax1.set_ylim(0.5, 0.8)\n",
    "\n",
    "    ax2 = ax1.twinx()\n",
    "    ax2.plot(x, y_right, color='r')\n",
    "    ax2.set_ylabel(y_right_name, color='r', fontsize=16, fontweight='bold')\n",
    "    if 'DI' in y_right_name:\n",
    "        ax2.set_ylim(0., 0.7)\n",
    "    else:\n",
    "        ax2.set_ylim(-0.25, 0.1)\n",
    "\n",
    "    best_ind = np.argmax(y_left)\n",
    "    ax2.axvline(np.array(x)[best_ind], color='k', linestyle=':')\n",
    "    ax2.yaxis.set_tick_params(labelsize=14)\n",
    "    ax2.grid(True)"
   ]
  },
  {
   "cell_type": "markdown",
   "id": "f704835b",
   "metadata": {},
   "source": [
    "Here we plot $1 - \\min(\\text{disparate impact}, 1/\\text{disparate impact})$ since it's possible to overcorrect and end up with a value greater than 1, implying unfairness for the original privileged group. For shorthand, we simply call this 1-min(DI, 1/DI) from now on. We want the plotted metric to be less than 0.2."
   ]
  },
  {
   "cell_type": "code",
   "execution_count": 39,
   "id": "f679ac5c",
   "metadata": {},
   "outputs": [
    {
     "data": {
      "image/png": "[encoded data removed]",
      "text/plain": [
       "<Figure size 1000x700 with 2 Axes>"
      ]
     },
     "metadata": {},
     "output_type": "display_data"
    }
   ],
   "source": [
    "disp_imp = np.array(val_metrics['disp_imp'])\n",
    "disp_imp_err = 1 - np.minimum(disp_imp, 1/disp_imp)\n",
    "plot(thresh_arr, 'Classification Thresholds',\n",
    "     val_metrics['bal_acc'], 'Balanced Accuracy',\n",
    "     disp_imp_err, '1 - min(DI, 1/DI)')"
   ]
  },
  {
   "cell_type": "code",
   "execution_count": 40,
   "id": "0d16749e",
   "metadata": {},
   "outputs": [
    {
     "data": {
      "image/png": "[encoded data removed]",
      "text/plain": [
       "<Figure size 1000x700 with 2 Axes>"
      ]
     },
     "metadata": {},
     "output_type": "display_data"
    }
   ],
   "source": [
    "plot(thresh_arr, 'Classification Thresholds',\n",
    "     val_metrics['bal_acc'], 'Balanced Accuracy',\n",
    "     val_metrics['avg_odds_diff'], 'avg. odds diff.')"
   ]
  },
  {
   "cell_type": "markdown",
   "id": "b05b54fe",
   "metadata": {},
   "source": [
    "Make a function to print out accuracy and fairness metrics. This will be used throughout the tutorial."
   ]
  },
  {
   "cell_type": "code",
   "execution_count": 41,
   "id": "6f017ca1",
   "metadata": {},
   "outputs": [],
   "source": [
    "def describe_metrics(metrics, thresh_arr):\n",
    "    best_ind = np.argmax(metrics['bal_acc'])\n",
    "    print(\"Threshold corresponding to Best balanced accuracy: {:6.4f}\".format(thresh_arr[best_ind]))\n",
    "    print(\"Best balanced accuracy: {:6.4f}\".format(metrics['bal_acc'][best_ind]))\n",
    "#     disp_imp_at_best_ind = np.abs(1 - np.array(metrics['disp_imp']))[best_ind]\n",
    "    disp_imp_at_best_ind = 1 - min(metrics['disp_imp'][best_ind], 1/metrics['disp_imp'][best_ind])\n",
    "    print(\"Corresponding 1-min(DI, 1/DI) value: {:6.4f}\".format(disp_imp_at_best_ind))\n",
    "    print(\"Corresponding average odds difference value: {:6.4f}\".format(metrics['avg_odds_diff'][best_ind]))\n",
    "    print(\"Corresponding statistical parity difference value: {:6.4f}\".format(metrics['stat_par_diff'][best_ind]))\n",
    "    print(\"Corresponding equal opportunity difference value: {:6.4f}\".format(metrics['eq_opp_diff'][best_ind]))\n",
    "    print(\"Corresponding Theil index value: {:6.4f}\".format(metrics['theil_ind'][best_ind]))"
   ]
  },
  {
   "cell_type": "code",
   "execution_count": 42,
   "id": "8f81e2bc",
   "metadata": {},
   "outputs": [
    {
     "name": "stdout",
     "output_type": "stream",
     "text": [
      "Threshold corresponding to Best balanced accuracy: 0.1900\n",
      "Best balanced accuracy: 0.7627\n",
      "Corresponding 1-min(DI, 1/DI) value: 0.6066\n",
      "Corresponding average odds difference value: -0.1831\n",
      "Corresponding statistical parity difference value: -0.2643\n",
      "Corresponding equal opportunity difference value: -0.1608\n",
      "Corresponding Theil index value: 0.0936\n"
     ]
    }
   ],
   "source": [
    "describe_metrics(val_metrics, thresh_arr)"
   ]
  },
  {
   "cell_type": "markdown",
   "id": "b124396e",
   "metadata": {},
   "source": [
    "#### 3.2.3. Testing LR model on original data"
   ]
  },
  {
   "cell_type": "code",
   "execution_count": 43,
   "id": "55fd1abc",
   "metadata": {},
   "outputs": [],
   "source": [
    "lr_orig_metrics = test(dataset=dataset_orig_panel19_test,\n",
    "                       model=lr_orig_panel19,\n",
    "                       thresh_arr=[thresh_arr[lr_orig_best_ind]])"
   ]
  },
  {
   "cell_type": "code",
   "execution_count": 44,
   "id": "f14b0ecc",
   "metadata": {},
   "outputs": [
    {
     "name": "stdout",
     "output_type": "stream",
     "text": [
      "Threshold corresponding to Best balanced accuracy: 0.1900\n",
      "Best balanced accuracy: 0.7759\n",
      "Corresponding 1-min(DI, 1/DI) value: 0.5738\n",
      "Corresponding average odds difference value: -0.2057\n",
      "Corresponding statistical parity difference value: -0.2612\n",
      "Corresponding equal opportunity difference value: -0.2228\n",
      "Corresponding Theil index value: 0.0921\n"
     ]
    }
   ],
   "source": [
    "describe_metrics(lr_orig_metrics, [thresh_arr[lr_orig_best_ind]])"
   ]
  },
  {
   "cell_type": "markdown",
   "id": "663045f6",
   "metadata": {},
   "source": [
    "For all the fairness metrics displayed above, the value should be close to '0' for fairness.\n",
    "\n",
    "1-min(DI, 1/DI) < 0.2 is typically desired for classifier predictions to be fair.\n",
    "\n",
    "However, for a logistic regression classifier trained with original training data, at the best classification rate, this is quite high. This implies unfairness.\n",
    "\n",
    "Similarly, $\\text{average odds difference} = \\frac{(FPR_{unpriv}-FPR_{priv})+(TPR_{unpriv}-TPR_{priv})}{2}$ must be close to zero for the classifier to be fair.\n",
    "\n",
    "Again, the results for this classifier-data combination are still high. This still implies unfairness."
   ]
  },
  {
   "cell_type": "markdown",
   "id": "fe307837",
   "metadata": {},
   "source": [
    "#### 3.3. Learning a Random Forest (RF) classifier on original data"
   ]
  },
  {
   "cell_type": "markdown",
   "id": "6b659eb5",
   "metadata": {},
   "source": [
    "##### 3.3.1. Training RF model on original data"
   ]
  },
  {
   "cell_type": "code",
   "execution_count": 45,
   "id": "7974e85d",
   "metadata": {},
   "outputs": [],
   "source": [
    "dataset = dataset_orig_panel19_train\n",
    "model = make_pipeline(StandardScaler(),\n",
    "                      RandomForestClassifier(n_estimators=500, min_samples_leaf=25))\n",
    "fit_params = {'randomforestclassifier__sample_weight': dataset.instance_weights}\n",
    "rf_orig_panel19 = model.fit(dataset.features, dataset.labels.ravel(), **fit_params)"
   ]
  },
  {
   "cell_type": "markdown",
   "id": "a6c55db3",
   "metadata": {},
   "source": [
    "#### 3.3.2. Validating RF model on original data"
   ]
  },
  {
   "cell_type": "code",
   "execution_count": 46,
   "id": "eeb9888b",
   "metadata": {},
   "outputs": [],
   "source": [
    "thresh_arr = np.linspace(0.01, 0.5, 50)\n",
    "val_metrics = test(dataset=dataset_orig_panel19_val,\n",
    "                   model=rf_orig_panel19,\n",
    "                   thresh_arr=thresh_arr)\n",
    "rf_orig_best_ind = np.argmax(val_metrics['bal_acc'])"
   ]
  },
  {
   "cell_type": "code",
   "execution_count": 47,
   "id": "920d6ce0",
   "metadata": {},
   "outputs": [
    {
     "data": {
      "image/png": "[encoded data removed]",
      "text/plain": [
       "<Figure size 1000x700 with 2 Axes>"
      ]
     },
     "metadata": {},
     "output_type": "display_data"
    }
   ],
   "source": [
    "disp_imp = np.array(val_metrics['disp_imp'])\n",
    "disp_imp_err = 1 - np.minimum(disp_imp, 1/disp_imp)\n",
    "plot(thresh_arr, 'Classification Thresholds',\n",
    "     val_metrics['bal_acc'], 'Balanced Accuracy',\n",
    "     disp_imp_err, '1 - min(DI, 1/DI)')"
   ]
  },
  {
   "cell_type": "code",
   "execution_count": 48,
   "id": "82e22301",
   "metadata": {},
   "outputs": [
    {
     "data": {
      "image/png": "[encoded data removed]",
      "text/plain": [
       "<Figure size 1000x700 with 2 Axes>"
      ]
     },
     "metadata": {},
     "output_type": "display_data"
    }
   ],
   "source": [
    "plot(thresh_arr, 'Classification Thresholds',\n",
    "     val_metrics['bal_acc'], 'Balanced Accuracy',\n",
    "     val_metrics['avg_odds_diff'], 'avg. odds diff.')"
   ]
  },
  {
   "cell_type": "code",
   "execution_count": 49,
   "id": "0f1658b7",
   "metadata": {},
   "outputs": [
    {
     "name": "stdout",
     "output_type": "stream",
     "text": [
      "Threshold corresponding to Best balanced accuracy: 0.2300\n",
      "Best balanced accuracy: 0.7727\n",
      "Corresponding 1-min(DI, 1/DI) value: 0.4891\n",
      "Corresponding average odds difference value: -0.1174\n",
      "Corresponding statistical parity difference value: -0.1952\n",
      "Corresponding equal opportunity difference value: -0.1076\n",
      "Corresponding Theil index value: 0.0893\n"
     ]
    }
   ],
   "source": [
    "describe_metrics(val_metrics, thresh_arr)"
   ]
  },
  {
   "cell_type": "markdown",
   "id": "93979a4e",
   "metadata": {},
   "source": [
    "#### 3.3.3. Testing RF model on original data"
   ]
  },
  {
   "cell_type": "code",
   "execution_count": 50,
   "id": "df2177e3",
   "metadata": {},
   "outputs": [],
   "source": [
    "rf_orig_metrics = test(dataset=dataset_orig_panel19_test,\n",
    "                       model=rf_orig_panel19,\n",
    "                       thresh_arr=[thresh_arr[rf_orig_best_ind]])"
   ]
  },
  {
   "cell_type": "code",
   "execution_count": 51,
   "id": "6363864e",
   "metadata": {},
   "outputs": [
    {
     "name": "stdout",
     "output_type": "stream",
     "text": [
      "Threshold corresponding to Best balanced accuracy: 0.2300\n",
      "Best balanced accuracy: 0.7640\n",
      "Corresponding 1-min(DI, 1/DI) value: 0.5040\n",
      "Corresponding average odds difference value: -0.1346\n",
      "Corresponding statistical parity difference value: -0.2121\n",
      "Corresponding equal opportunity difference value: -0.1141\n",
      "Corresponding Theil index value: 0.0944\n"
     ]
    }
   ],
   "source": [
    "describe_metrics(rf_orig_metrics, [thresh_arr[rf_orig_best_ind]])"
   ]
  },
  {
   "cell_type": "markdown",
   "id": "6bde9eb2",
   "metadata": {},
   "source": [
    "### Section 3 Write Up\n",
    "\n",
    "### Part-01: For **both** the logistic regression and random forest classifiers learned on the original data, please include explain the results of your fairness metrics. For _each_ metric result briefly describe what this value means in 1-2 sentences (is it fair, is it not fair? Why?)\n",
    "\n",
    "**Fairness Metric Summary**\n",
    "* Threshold corresponding to Best balanced accuracy:\n",
    "* Best balanced accuracy:\n",
    "* Corresponding 1-min(DI, 1/DI) value:\n",
    "* Corresponding average odds difference value:\n",
    "* Corresponding statistical parity difference value:\n",
    "* Corresponding equal opportunity difference value:\n",
    "* Corresponding Theil index value:\n",
    "\n",
    "### Part-02: Please write one paragraph for each question.\n",
    "1. How can we determine which metrics to use, given our data and use case? You can refer to [Course material](https://nanrahman.github.io/capstone-responsible-ai/weeks/06-Fairness-Assessments/), online research and Guidance provided by [AIF360](http://aif360.mybluemix.net/resources#)\n",
    "2. When you have competing fairness metrics, how to pick which to prioritize?\n",
    "3. What do you do when you encounter different definitions for similar metrics?\n",
    "4. Based on this, which model and fairness metric appears the best to proceed with?"
   ]
  },
  {
   "cell_type": "markdown",
   "id": "bd3c7b71",
   "metadata": {},
   "source": [
    "For the logistic regression classifier trained on the original data, the best balanced accuracy was 0.7759 at a threshold of 0.19. The fairness metrics here show:\n",
    "* **1 - min(DI, 1/DI)**: This metric scored 0.5738, which exceeds the <0.2 threshold typically indiciating fairness. This higher value implies that the model treats groups unequally, suggesting possible bias in predictions.\n",
    "* **Average Odds Difference**: The metric value of -0.2057 points to an imbalance between false positive and true positive rates for different groups, indicating potential unfairness in classification outcomes.\n",
    "* **Statistical Parity Difference**:** With a result of -0.2612, the model displays unequal outcome rates across groups, which points to a lack of parity in how outcomes are distributed.\n",
    "* **Equal Opportunity Difference**: At -0.2288, this metrics shows differing true positive rates between groups, indicating unequal access to favorable predictions.\n",
    "* **Theil Index**: the score of 0.0921 represents some inequality in benefit distribution across the dataset, considering that the model could be fairer.\n",
    "\n",
    "For the random forest model, we achieved a balanced accuracy of 0.7640 at a threshold of 0.23. Here’s how each fairness metrics compares:\n",
    "* **1 - min(DI, 1/DI)**’s value was 0.5040, which still misses the fairness target, though it’s slightly better than the logistics model.\n",
    "* **Average Odds Difference** of -0.1346 indicates some imbalance in true and false positive rates between groups but less than with logistic regression.\n",
    "* **Statistical Parity Difference** of -0.2121 shows that one group is receiving more favorable outcomes than the other.\n",
    "* **Equal Opportunity Difference**: At -0.1141, this value is closer to fair but still suggests slight disparities in error rates between groups.\n",
    "* **Theil Index**: At 0.0944, the result implies slight unfairness, as it indicates some inequality in how benefits are distributed across individuals. A lower score would suggest a fairer distribution where individuals receive similar levels of benefits.\n",
    "\n",
    "We can determine what metrics to use based on the content and purpose of the MEPS database. Since this dataset pertains to healthcare and patient characteristics it would be important to determine metrics based on prominent factors such as age, race, gender, and other demographics. Based on these groups and other features such as diagnoses we can decide what fairness metrics to use to assure fair treatment across these groups and understand health trends among them for preventative care. If a group is being disproportionately affected by something, it is important that fairness metrics can quantify that unfairness in order to do some form of mitigation. An example would be disparate impact to check these fair outcomes. Another would be equal opportunity to monitor true positives across all groups, to ensure equality. This fits the given data and use case for this project. \n",
    "\n",
    "In this case if fairness metrics were in competition, we would have to prioritize the one that is more relevant to the healthcare industry. For example, the metrics mentioned above are high priority across all industries, but particularly for ensuring fairness across various demographics in healthcare. When it comes to ethics, these are major problems today in the industry that need to be combatted so people from all groups have equal opportunity and access to healthcare and that everyone is treated fairly in the system. For example, when it comes to healthcare a false negative in most cases can be a lot more harmful than a false negative since conditions and diseases can go untreated and be fatal. With things like this in mind, we can decide which fairness metrics to prioritize in this use case. \n",
    "\n",
    "In situations where we may encounter multiple metrics which appear to have similar definitions, we could start by looking at the mathematical definitions to determine specific differences in calculation. If any are identified, we can develop an understanding of how they affect the final resulting values produced by the metrics, and use that understanding to determine which one may be more appropriate to use in a given case. Additionally, we could do more research on the common use cases of the metrics to find where each one is more often used and try to understand the reasoning for each. From there, we could combine our mathematical and practical understanding of the metrics to decide which one or ones to use for our models.\n",
    "\n",
    "The two models we tested were Logistic Regression classifier (LR) and Random Forest Classifier (RF). Using the unweighted original data, LR achieved a best balanced accuracy of 0.7759 compared to RF’s 0.7640, which is around a percent lower. Based on this alone, the LR model looks better. Looking at our fairness metrics, the LR model has a significantly lower threshold to best balanced accuracy at 0.19 compared to 0.23 for the RF model. LR has a higher 1-min(DI, 1/DI) value of 0.5738 compared to 0.5040 for RF. For average odds difference, statistical parity difference, and equal opportunity difference, LR has larger magnitude negative values than RF. Both models have similar values for Theil index. Overall, while LR achieves a slightly higher accuracy, it appears that the RF model performs better in terms of fairness, so it appears best to proceed with it.\n"
   ]
  },
  {
   "cell_type": "markdown",
   "id": "a2ff07da",
   "metadata": {},
   "source": [
    "### [4.](#Table-of-Contents) Additional Model Development"
   ]
  },
  {
   "cell_type": "markdown",
   "id": "e3163c0e",
   "metadata": {},
   "source": [
    "##### 4.1A Load data & create splits for learning/validating/testing model"
   ]
  },
  {
   "cell_type": "code",
   "execution_count": 52,
   "id": "8e368a95",
   "metadata": {},
   "outputs": [],
   "source": [
    "# Use the same methods from Section 3\n",
    "(dataset_orig_panel21_train,\n",
    " dataset_orig_panel21_val,\n",
    " dataset_orig_panel21_test) = MEPSDataset21().split([0.5, 0.8], shuffle=True)\n",
    "\n",
    "sens_ind = 0\n",
    "sens_attr = dataset_orig_panel21_train.protected_attribute_names[sens_ind]\n",
    "\n",
    "unprivileged_groups = [{sens_attr: v} for v in\n",
    "                       dataset_orig_panel21_train.unprivileged_protected_attributes[sens_ind]]\n",
    "privileged_groups = [{sens_attr: v} for v in\n",
    "                     dataset_orig_panel21_train.privileged_protected_attributes[sens_ind]]"
   ]
  },
  {
   "cell_type": "markdown",
   "id": "cfff2076",
   "metadata": {},
   "source": [
    "#### 4.1B Utilize findings from your EDA to complete any additional model development"
   ]
  },
  {
   "cell_type": "markdown",
   "id": "91671a21",
   "metadata": {},
   "source": [
    "We wanted to select specific features we believed were the most correlated to the target variable. We had some issues with the format of the dataset and the protected attribute but our goals was to only keep the relevant columns we stored in the feature list."
   ]
  },
  {
   "cell_type": "code",
   "execution_count": 53,
   "id": "a8a42b60",
   "metadata": {},
   "outputs": [
    {
     "data": {
      "text/markdown": [
       "#### Training Dataset shape"
      ],
      "text/plain": [
       "<IPython.core.display.Markdown object>"
      ]
     },
     "metadata": {},
     "output_type": "display_data"
    },
    {
     "name": "stdout",
     "output_type": "stream",
     "text": [
      "(7837, 138)\n"
     ]
    },
    {
     "data": {
      "text/markdown": [
       "#### Validation Dataset shape"
      ],
      "text/plain": [
       "<IPython.core.display.Markdown object>"
      ]
     },
     "metadata": {},
     "output_type": "display_data"
    },
    {
     "name": "stdout",
     "output_type": "stream",
     "text": [
      "(4703, 138)\n"
     ]
    },
    {
     "data": {
      "text/markdown": [
       "#### Test Dataset shape"
      ],
      "text/plain": [
       "<IPython.core.display.Markdown object>"
      ]
     },
     "metadata": {},
     "output_type": "display_data"
    },
    {
     "name": "stdout",
     "output_type": "stream",
     "text": [
      "(3135, 138)\n"
     ]
    },
    {
     "data": {
      "text/markdown": [
       "#### Favorable and unfavorable labels"
      ],
      "text/plain": [
       "<IPython.core.display.Markdown object>"
      ]
     },
     "metadata": {},
     "output_type": "display_data"
    },
    {
     "name": "stdout",
     "output_type": "stream",
     "text": [
      "1.0 0.0\n"
     ]
    },
    {
     "data": {
      "text/markdown": [
       "#### Protected attribute names"
      ],
      "text/plain": [
       "<IPython.core.display.Markdown object>"
      ]
     },
     "metadata": {},
     "output_type": "display_data"
    },
    {
     "name": "stdout",
     "output_type": "stream",
     "text": [
      "['RACE']\n"
     ]
    },
    {
     "data": {
      "text/markdown": [
       "#### Privileged and unprivileged protected attribute values"
      ],
      "text/plain": [
       "<IPython.core.display.Markdown object>"
      ]
     },
     "metadata": {},
     "output_type": "display_data"
    },
    {
     "name": "stdout",
     "output_type": "stream",
     "text": [
      "[array([1.])] [array([0.])]\n"
     ]
    },
    {
     "data": {
      "text/markdown": [
       "#### Dataset feature names"
      ],
      "text/plain": [
       "<IPython.core.display.Markdown object>"
      ]
     },
     "metadata": {},
     "output_type": "display_data"
    },
    {
     "name": "stdout",
     "output_type": "stream",
     "text": [
      "['AGE', 'RACE', 'PCS42', 'MCS42', 'K6SUM42', 'REGION=1', 'REGION=2', 'REGION=3', 'REGION=4', 'SEX=1', 'SEX=2', 'MARRY=1', 'MARRY=2', 'MARRY=3', 'MARRY=4', 'MARRY=5', 'MARRY=6', 'MARRY=7', 'MARRY=8', 'MARRY=9', 'MARRY=10', 'FTSTU=-1', 'FTSTU=1', 'FTSTU=2', 'FTSTU=3', 'ACTDTY=1', 'ACTDTY=2', 'ACTDTY=3', 'ACTDTY=4', 'HONRDC=1', 'HONRDC=2', 'HONRDC=3', 'HONRDC=4', 'RTHLTH=-1', 'RTHLTH=1', 'RTHLTH=2', 'RTHLTH=3', 'RTHLTH=4', 'RTHLTH=5', 'MNHLTH=-1', 'MNHLTH=1', 'MNHLTH=2', 'MNHLTH=3', 'MNHLTH=4', 'MNHLTH=5', 'HIBPDX=-1', 'HIBPDX=1', 'HIBPDX=2', 'CHDDX=-1', 'CHDDX=1', 'CHDDX=2', 'ANGIDX=-1', 'ANGIDX=1', 'ANGIDX=2', 'MIDX=-1', 'MIDX=1', 'MIDX=2', 'OHRTDX=-1', 'OHRTDX=1', 'OHRTDX=2', 'STRKDX=-1', 'STRKDX=1', 'STRKDX=2', 'EMPHDX=-1', 'EMPHDX=1', 'EMPHDX=2', 'CHBRON=-1', 'CHBRON=1', 'CHBRON=2', 'CHOLDX=-1', 'CHOLDX=1', 'CHOLDX=2', 'CANCERDX=-1', 'CANCERDX=1', 'CANCERDX=2', 'DIABDX=-1', 'DIABDX=1', 'DIABDX=2', 'JTPAIN=-1', 'JTPAIN=1', 'JTPAIN=2', 'ARTHDX=-1', 'ARTHDX=1', 'ARTHDX=2', 'ARTHTYPE=-1', 'ARTHTYPE=1', 'ARTHTYPE=2', 'ARTHTYPE=3', 'ASTHDX=1', 'ASTHDX=2', 'ADHDADDX=-1', 'ADHDADDX=1', 'ADHDADDX=2', 'PREGNT=-1', 'PREGNT=1', 'PREGNT=2', 'WLKLIM=-1', 'WLKLIM=1', 'WLKLIM=2', 'ACTLIM=-1', 'ACTLIM=1', 'ACTLIM=2', 'SOCLIM=-1', 'SOCLIM=1', 'SOCLIM=2', 'COGLIM=-1', 'COGLIM=1', 'COGLIM=2', 'DFHEAR42=-1', 'DFHEAR42=1', 'DFHEAR42=2', 'DFSEE42=-1', 'DFSEE42=1', 'DFSEE42=2', 'ADSMOK42=-1', 'ADSMOK42=1', 'ADSMOK42=2', 'PHQ242=-1', 'PHQ242=0', 'PHQ242=1', 'PHQ242=2', 'PHQ242=3', 'PHQ242=4', 'PHQ242=5', 'PHQ242=6', 'EMPST=-1', 'EMPST=1', 'EMPST=2', 'EMPST=3', 'EMPST=4', 'POVCAT=1', 'POVCAT=2', 'POVCAT=3', 'POVCAT=4', 'POVCAT=5', 'INSCOV=1', 'INSCOV=2', 'INSCOV=3']\n"
     ]
    }
   ],
   "source": [
    "describe(dataset_orig_panel21_train, dataset_orig_panel21_val, dataset_orig_panel21_test)\n"
   ]
  },
  {
   "cell_type": "code",
   "execution_count": 54,
   "id": "a6e1cf83",
   "metadata": {},
   "outputs": [
    {
     "name": "stdout",
     "output_type": "stream",
     "text": [
      "Disparate impact (probability of favorable outcome for unprivileged instances / probability of favorable outcome for privileged instances): 0.4856132419740048\n"
     ]
    }
   ],
   "source": [
    "metric_orig_panel21_train = BinaryLabelDatasetMetric(\n",
    "        dataset_orig_panel21_train,\n",
    "        unprivileged_groups=unprivileged_groups,\n",
    "        privileged_groups=privileged_groups)\n",
    "explainer_orig_panel21_train = MetricTextExplainer(metric_orig_panel21_train)\n",
    "\n",
    "print(explainer_orig_panel21_train.disparate_impact())"
   ]
  },
  {
   "cell_type": "markdown",
   "id": "6b72ca58",
   "metadata": {},
   "source": [
    "We wanted to select specific features we believed were the most correlated to the target variable. We selected the features with the top 25 largest positive and negative correlation with Utilization and attempted to drop all other features and retrain our models, but we had some issues with the format of the dataset and the protected attribute. Our goal was to only keep the relevant columns we stored in the feature list."
   ]
  },
  {
   "cell_type": "code",
   "execution_count": 55,
   "id": "0e9cd72e",
   "metadata": {},
   "outputs": [
    {
     "data": {
      "text/plain": [
       "['WLKLIM_1',\n",
       " 'ARTHDX_1',\n",
       " 'ACTLIM_1',\n",
       " 'AGE',\n",
       " 'JTPAIN_1',\n",
       " 'ACTDTY_4',\n",
       " 'HIBPDX_1',\n",
       " 'CHOLDX_1',\n",
       " 'SOCLIM_1',\n",
       " 'EMPST_4',\n",
       " 'PHQ242',\n",
       " 'CANCERDX_1',\n",
       " 'ARTHTYPE_2',\n",
       " 'COGLIM_1',\n",
       " 'OHRTDX_1',\n",
       " 'DIABDX_1',\n",
       " 'CHDDX_1',\n",
       " 'ARTHTYPE_3',\n",
       " 'RTHLTH_4',\n",
       " 'ADSMOK42_2',\n",
       " 'MARRY_2',\n",
       " 'STRKDX_1',\n",
       " 'RTHLTH_5',\n",
       " 'ADHDADDX_-1']"
      ]
     },
     "execution_count": 55,
     "metadata": {},
     "output_type": "execute_result"
    }
   ],
   "source": [
    "top_corr_cols = top_25.index.tolist()\n",
    "top_corr_cols.remove('UTILIZATION')\n",
    "top_corr_cols"
   ]
  },
  {
   "cell_type": "code",
   "execution_count": 56,
   "id": "70a7bbd7",
   "metadata": {},
   "outputs": [
    {
     "data": {
      "text/plain": [
       "['WLKLIM_2',\n",
       " 'ARTHTYPE_-1',\n",
       " 'SOCLIM_2',\n",
       " 'ACTLIM_2',\n",
       " 'ADSMOK42_-1',\n",
       " 'K6SUM42_-1',\n",
       " 'CANCERDX_-1',\n",
       " 'EMPHDX_-1',\n",
       " 'MIDX_-1',\n",
       " 'ANGIDX_-1',\n",
       " 'CHOLDX_-1',\n",
       " 'OHRTDX_-1',\n",
       " 'DIABDX_-1',\n",
       " 'CHDDX_-1',\n",
       " 'ARTHDX_-1',\n",
       " 'HIBPDX_-1',\n",
       " 'STRKDX_-1',\n",
       " 'RTHLTH_1',\n",
       " 'JTPAIN_-1',\n",
       " 'CHBRON_-1',\n",
       " 'COGLIM_-1',\n",
       " 'HONRDC_3',\n",
       " 'ADHDADDX_2',\n",
       " 'ACTDTY_3',\n",
       " 'EMPST_-1']"
      ]
     },
     "execution_count": 56,
     "metadata": {},
     "output_type": "execute_result"
    }
   ],
   "source": [
    "bottom_corr_cols = bottom_25.index.tolist()\n",
    "bottom_corr_cols"
   ]
  },
  {
   "cell_type": "code",
   "execution_count": 57,
   "id": "25dddbf9",
   "metadata": {},
   "outputs": [
    {
     "data": {
      "text/plain": [
       "['WLKLIM=1',\n",
       " 'ARTHDX=1',\n",
       " 'ACTLIM=1',\n",
       " 'AGE',\n",
       " 'JTPAIN=1',\n",
       " 'ACTDTY=4',\n",
       " 'HIBPDX=1',\n",
       " 'CHOLDX=1',\n",
       " 'SOCLIM=1',\n",
       " 'EMPST=4',\n",
       " 'PHQ242',\n",
       " 'CANCERDX=1',\n",
       " 'ARTHTYPE=2',\n",
       " 'COGLIM=1',\n",
       " 'OHRTDX=1',\n",
       " 'DIABDX=1',\n",
       " 'CHDDX=1',\n",
       " 'ARTHTYPE=3',\n",
       " 'RTHLTH=4',\n",
       " 'ADSMOK42=2',\n",
       " 'MARRY=2',\n",
       " 'STRKDX=1',\n",
       " 'RTHLTH=5',\n",
       " 'ADHDADDX=-1',\n",
       " 'WLKLIM=2',\n",
       " 'ARTHTYPE=-1',\n",
       " 'SOCLIM=2',\n",
       " 'ACTLIM=2',\n",
       " 'ADSMOK42=-1',\n",
       " 'K6SUM42=-1',\n",
       " 'CANCERDX=-1',\n",
       " 'EMPHDX=-1',\n",
       " 'MIDX=-1',\n",
       " 'ANGIDX=-1',\n",
       " 'CHOLDX=-1',\n",
       " 'OHRTDX=-1',\n",
       " 'DIABDX=-1',\n",
       " 'CHDDX=-1',\n",
       " 'ARTHDX=-1',\n",
       " 'HIBPDX=-1',\n",
       " 'STRKDX=-1',\n",
       " 'RTHLTH=1',\n",
       " 'JTPAIN=-1',\n",
       " 'CHBRON=-1',\n",
       " 'COGLIM=-1',\n",
       " 'HONRDC=3',\n",
       " 'ADHDADDX=2',\n",
       " 'ACTDTY=3',\n",
       " 'EMPST=-1']"
      ]
     },
     "execution_count": 57,
     "metadata": {},
     "output_type": "execute_result"
    }
   ],
   "source": [
    "feature_list = top_corr_cols + bottom_corr_cols\n",
    "feature_list = [item.replace('_', '=')if '_' in item else item for item in feature_list]\n",
    "feature_list"
   ]
  },
  {
   "cell_type": "code",
   "execution_count": null,
   "id": "ef250fde",
   "metadata": {},
   "outputs": [],
   "source": [
    "from collections import Counter\n",
    "prefixes = [feat.split('=')[0] for feat in feature_list]\n",
    "prefix_counts = Counter(prefixes)\n",
    "most_common_prefixes = prefix_counts.most_common(5)\n",
    "\n",
    "features_to_keep = [tup[0] for tup in most_common_prefixes]\n",
    "\n",
    "\n",
    "(dataset_orig_panel21_train_features_to_keep,\n",
    " dataset_orig_panel21_val_features_to_keep,\n",
    " dataset_orig_panel21_test_features_to_keep) = MEPSDataset21(features_to_keep = features_to_keep).split([0.5, 0.8], shuffle=True)\n"
   ]
  },
  {
   "cell_type": "markdown",
   "id": "1917368b",
   "metadata": {},
   "source": [
    "### 4.2. Learning a Logistic Regression (LR) classifier on original data"
   ]
  },
  {
   "cell_type": "markdown",
   "id": "8298b7b1",
   "metadata": {},
   "source": [
    "4.2.1 Training LR model on original data"
   ]
  },
  {
   "cell_type": "code",
   "execution_count": 70,
   "id": "29bbf40c",
   "metadata": {},
   "outputs": [],
   "source": [
    "dataset = dataset_orig_panel21_train_features_to_keep\n",
    "model = make_pipeline(StandardScaler(),\n",
    "                      LogisticRegression(solver='liblinear', random_state=1))\n",
    "fit_params = {'logisticregression__sample_weight': dataset.instance_weights}\n",
    "\n",
    "lr_orig_panel19 = model.fit(dataset.features, dataset.labels.ravel(), **fit_params)"
   ]
  },
  {
   "cell_type": "code",
   "execution_count": null,
   "id": "a395a390",
   "metadata": {},
   "outputs": [],
   "source": []
  },
  {
   "cell_type": "markdown",
   "id": "fb68586b",
   "metadata": {},
   "source": [
    "### 4.3. Learning a Random Forest (RF) classifier on original data"
   ]
  },
  {
   "cell_type": "markdown",
   "id": "89d7a8a9",
   "metadata": {},
   "source": []
  },
  {
   "cell_type": "code",
   "execution_count": 71,
   "id": "19284597",
   "metadata": {},
   "outputs": [],
   "source": [
    "dataset = dataset_orig_panel21_train_features_to_keep\n",
    "model = make_pipeline(StandardScaler(),\n",
    "                      RandomForestClassifier(n_estimators=500, min_samples_leaf=25))\n",
    "fit_params = {'randomforestclassifier__sample_weight': dataset.instance_weights}\n",
    "rf_orig_panel19 = model.fit(dataset.features, dataset.labels.ravel(), **fit_params)"
   ]
  },
  {
   "cell_type": "markdown",
   "id": "24a120a4",
   "metadata": {},
   "source": [
    "### Section 4 Write Up here\n",
    "\n",
    "**1. For both the logistic regression and random forest classifiers learned on the original data, please include the results of your fairness metrics. For _each_ metric result briefly describe (1-2 sentences) if you saw any differences from your results in Part 3, and what that might mean.**\n",
    "\n",
    "_Fairness Metrics_\n",
    "   * Threshold corresponding to Best balanced accuracy:\n",
    "   * Best balanced accuracy:\n",
    "   * Corresponding 1-min(DI, 1/DI) value:\n",
    "   * Corresponding average odds difference value:\n",
    "   * Corresponding statistical parity difference value:\n",
    "   * Corresponding equal opportunity difference value:\n",
    "   * Corresponding Theil index value:\n",
    "    \n",
    "**2. Based on this, would you make any recommendations during model development? Does it change which model and fairness metric would be the best to proceed with?** (Please write at least one paragraph)"
   ]
  },
  {
   "cell_type": "markdown",
   "id": "c3881b7b",
   "metadata": {},
   "source": [
    "\n",
    "### End of Replication Part 02 -  Model Development and Fairness Evaluation\n",
    "\n",
    "----"
   ]
  },
  {
   "cell_type": "markdown",
   "id": "351f5e58",
   "metadata": {},
   "source": [
    "## There are **two** components to `Replication Project Part #03`\n",
    "\n",
    "### Part 1. Run the full tutorial example. Within AIF360's Repository it can be found under: `AIF360`/`Examples`/tutorial_medical_expenditure.ipynb\n",
    "\n",
    "#### BEFORE YOU BEGIN MAKE SURE THAT:\n",
    "* A reminder, you will need to fork [AIF360's repository](https://github.com/Trusted-AI/AIF360) into your own GitHub and access the notebook locally or via your method of choice\n",
    "* AIF360's Repository can be found under: `AIF360`/`Examples`/tutorial_medical_expenditure.ipynb\n",
    "* Ensure you have your `aif360` environment turned and activated using a miniconda prompt\n",
    "* Use Jupyter Labs\n",
    "* Refer to [Week 03](https://nanrahman.github.io/capstone-responsible-ai/weeks/03-Replication-Part-00/) content on the course Website to access the `Quickstart Guide`\n",
    "\n",
    "#### FOR THE DATA\n",
    "* Downloade the `h181.csv` and `h192.csv` data files uploaded [here](https://www.kaggle.com/datasets/nanrahman/mepsdata)\n",
    "* Place the `h181.csv` and `h192.csv` ino `../aif360/data/raw/meps/` of your forked AIF360 repository\n",
    "\n",
    "### Part 2. Training models WITH de-biasing, trying out another type of de-biasing method\n",
    "\n",
    "*Below is a list of additional notebooks that demonstrate the use of AIF360*\n",
    "\n",
    "* NEW: [sklearn/demo_new_features.ipynb](https://github.com/Trusted-AI/AIF360/blob/master/examples/sklearn/demo_new_features.ipynb): highlights the features of the new scikit-learn-compatible API\n",
    "* [demo_optim_data_preproc.ipynb](https://github.com/Trusted-AI/AIF360/blob/master/examples/demo_optim_data_preproc.ipynb): demonstrates a generalization of the credit scoring tutorial that shows the full machine learning workflow for the optimized data pre-processing algorithm for bias mitigation on several datasets\n",
    "* [demo_adversarial_debiasing.ipynb](https://github.com/Trusted-AI/AIF360/blob/master/examples/demo_adversarial_debiasing.ipynb): demonstrates the use of the adversarial debiasing in-processing algorithm to learn a fair classifier\n",
    "* [demo_calibrated_eqodds_postprocessing.ipynb](https://github.com/Trusted-AI/AIF360/blob/master/examples/demo_calibrated_eqodds_postprocessing.ipynb): demonstrates the use of an odds-equalizing post-processing algorithm for bias mitigiation\n",
    "* [demo_disparate_impact_remover.ipynb](https://github.com/Trusted-AI/AIF360/blob/master/examples/demo_disparate_impact_remover.ipynb): demonstrates the use of a disparate impact remover pre-processing algorithm for bias mitigiation\n",
    "* [demo_lfr.ipynb](https://github.com/Trusted-AI/AIF360/blob/master/examples/demo_lfr.ipynb): demonstrates the use of the learning fair representations algorithm for bias mitigation\n",
    "* [demo_lime.ipynb](https://github.com/Trusted-AI/AIF360/blob/master/examples/demo_lime.ipynb): demonstrates how LIME - Local Interpretable Model-Agnostic Explanations - can be used with models learned with the AIF 360 toolkit to generate explanations for model predictions\n",
    "* [demo_reject_option_classification.ipynb](https://github.com/Trusted-AI/AIF360/blob/master/examples/demo_reject_option_classification.ipynb): demonstrates the use of the Reject Option Classification (ROC) post-processing algorithm for bias mitigation\n",
    "* [demo_reweighing_preproc.ipynb](https://github.com/Trusted-AI/AIF360/blob/master/examples/demo_reweighing_preproc.ipynb): demonstrates the use of a reweighing pre-processing algorithm for bias mitigation\n"
   ]
  },
  {
   "cell_type": "markdown",
   "id": "58b3e294",
   "metadata": {
    "id": "58b3e294"
   },
   "source": [
    "### [5.](#Table-of-Contents) Bias Mitigation"
   ]
  },
  {
   "cell_type": "markdown",
   "id": "8d7d6e4e",
   "metadata": {},
   "source": [
    "### [5A.](#Table-of-Contents) Bias mitigation using pre-processing technique, Reweighing - AIF360 Example"
   ]
  },
  {
   "cell_type": "code",
   "execution_count": null,
   "id": "73f8aa6a",
   "metadata": {},
   "outputs": [],
   "source": [
    "# Follow the full AIF360 Example"
   ]
  },
  {
   "cell_type": "markdown",
   "id": "5828cbbb",
   "metadata": {},
   "source": [
    "### [5B.](#Table-of-Contents) Prejudice Remover (in-processing bias mitigation) -  AIF360 Example"
   ]
  },
  {
   "cell_type": "code",
   "execution_count": null,
   "id": "345b6152",
   "metadata": {},
   "outputs": [],
   "source": [
    "# Follow the full AIF360 Example"
   ]
  },
  {
   "cell_type": "markdown",
   "id": "8b59284a",
   "metadata": {},
   "source": [
    "### [5C.](#Table-of-Contents) Bias mitigation using a technique of your own\n"
   ]
  },
  {
   "cell_type": "code",
   "execution_count": null,
   "id": "c5d463cb",
   "metadata": {},
   "outputs": [],
   "source": [
    "# Choose your own technique!"
   ]
  },
  {
   "cell_type": "markdown",
   "id": "1a1554dc",
   "metadata": {},
   "source": []
  },
  {
   "cell_type": "markdown",
   "id": "106d7b57",
   "metadata": {
    "id": "106d7b57"
   },
   "source": [
    "### [6.](#Table-of-Contents) Results Summary"
   ]
  },
  {
   "cell_type": "markdown",
   "id": "61997b93",
   "metadata": {
    "id": "61997b93"
   },
   "source": [
    "### [7.](#Table-of-Contents) Explainability"
   ]
  },
  {
   "cell_type": "markdown",
   "id": "a9010ecc",
   "metadata": {
    "id": "a9010ecc"
   },
   "source": [
    "### [8.](#Table-of-Contents) Conclusion & Discussion"
   ]
  }
 ],
 "metadata": {
  "colab": {
   "provenance": []
  },
  "kernelspec": {
   "display_name": "aif360",
   "language": "python",
   "name": "python3"
  },
  "language_info": {
   "codemirror_mode": {
    "name": "ipython",
    "version": 3
   },
   "file_extension": ".py",
   "mimetype": "text/x-python",
   "name": "python",
   "nbconvert_exporter": "python",
   "pygments_lexer": "ipython3",
   "version": "3.11.10"
  }
 },
 "nbformat": 4,
 "nbformat_minor": 5
}
